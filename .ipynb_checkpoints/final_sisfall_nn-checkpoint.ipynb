{
 "cells": [
  {
   "cell_type": "code",
   "execution_count": 1,
   "metadata": {},
   "outputs": [
    {
     "name": "stderr",
     "output_type": "stream",
     "text": [
      "2022-09-07 01:45:12.710697: W tensorflow/stream_executor/platform/default/dso_loader.cc:64] Could not load dynamic library 'libcudart.so.11.0'; dlerror: libcudart.so.11.0: cannot open shared object file: No such file or directory\n",
      "2022-09-07 01:45:12.710760: I tensorflow/stream_executor/cuda/cudart_stub.cc:29] Ignore above cudart dlerror if you do not have a GPU set up on your machine.\n"
     ]
    }
   ],
   "source": [
    "import os\n",
    "import os.path\n",
    "import tensorflow as tf\n",
    "from tensorflow import keras\n",
    "import pandas as pd\n",
    "import numpy as np"
   ]
  },
  {
   "cell_type": "code",
   "execution_count": 2,
   "metadata": {},
   "outputs": [
    {
     "name": "stderr",
     "output_type": "stream",
     "text": [
      "2022-09-07 01:45:16.090363: I tensorflow/stream_executor/cuda/cuda_gpu_executor.cc:975] successful NUMA node read from SysFS had negative value (-1), but there must be at least one NUMA node, so returning NUMA node zero\n",
      "2022-09-07 01:45:16.090905: W tensorflow/stream_executor/platform/default/dso_loader.cc:64] Could not load dynamic library 'libcudart.so.11.0'; dlerror: libcudart.so.11.0: cannot open shared object file: No such file or directory\n",
      "2022-09-07 01:45:16.090961: W tensorflow/stream_executor/platform/default/dso_loader.cc:64] Could not load dynamic library 'libcublas.so.11'; dlerror: libcublas.so.11: cannot open shared object file: No such file or directory\n",
      "2022-09-07 01:45:16.091007: W tensorflow/stream_executor/platform/default/dso_loader.cc:64] Could not load dynamic library 'libcublasLt.so.11'; dlerror: libcublasLt.so.11: cannot open shared object file: No such file or directory\n",
      "2022-09-07 01:45:16.091051: W tensorflow/stream_executor/platform/default/dso_loader.cc:64] Could not load dynamic library 'libcufft.so.10'; dlerror: libcufft.so.10: cannot open shared object file: No such file or directory\n",
      "2022-09-07 01:45:16.091095: W tensorflow/stream_executor/platform/default/dso_loader.cc:64] Could not load dynamic library 'libcurand.so.10'; dlerror: libcurand.so.10: cannot open shared object file: No such file or directory\n",
      "2022-09-07 01:45:16.091145: W tensorflow/stream_executor/platform/default/dso_loader.cc:64] Could not load dynamic library 'libcusolver.so.11'; dlerror: libcusolver.so.11: cannot open shared object file: No such file or directory\n",
      "2022-09-07 01:45:16.091188: W tensorflow/stream_executor/platform/default/dso_loader.cc:64] Could not load dynamic library 'libcusparse.so.11'; dlerror: libcusparse.so.11: cannot open shared object file: No such file or directory\n",
      "2022-09-07 01:45:16.091233: W tensorflow/stream_executor/platform/default/dso_loader.cc:64] Could not load dynamic library 'libcudnn.so.8'; dlerror: libcudnn.so.8: cannot open shared object file: No such file or directory\n",
      "2022-09-07 01:45:16.091240: W tensorflow/core/common_runtime/gpu/gpu_device.cc:1850] Cannot dlopen some GPU libraries. Please make sure the missing libraries mentioned above are installed properly if you would like to use GPU. Follow the guide at https://www.tensorflow.org/install/gpu for how to download and setup the required libraries for your platform.\n",
      "Skipping registering GPU devices...\n"
     ]
    },
    {
     "data": {
      "text/plain": [
       "[]"
      ]
     },
     "execution_count": 2,
     "metadata": {},
     "output_type": "execute_result"
    }
   ],
   "source": [
    "tf.config.list_physical_devices('GPU')\n",
    "\n",
    "# Disable GPU\n",
    "# os.environ[\"CUDA_VISIBLE_DEVICES\"] = \"\"\n",
    "\n"
   ]
  },
  {
   "cell_type": "code",
   "execution_count": 3,
   "metadata": {},
   "outputs": [],
   "source": [
    "x = []\n",
    "y = []\n",
    "cnt = 0\n",
    "ind = []\n",
    "for dirpath, dirnames, filenames in os.walk(\"./SisFall_dataset\"):\n",
    "    for filename in [f for f in filenames if f.endswith(\".txt\")]:\n",
    "        if(filename != \"Readme.txt\"):\n",
    "            \n",
    "            if filename[0] == \"D\":\n",
    "                # ADL file\n",
    "                df = pd.read_csv(os.path.join(dirpath, filename),header=None)\n",
    "                ax = np.array(df[0])*32/8192\n",
    "                ay = np.array(df[1])*32/8192\n",
    "                az = np.array(df[2])*32/8192\n",
    "                aax = ax[np.arange(0,ax.shape[0],8)]\n",
    "                aay = ay[np.arange(0,ax.shape[0],8)]\n",
    "                aaz = az[np.arange(0,ax.shape[0],8)]\n",
    "                s = np.sqrt(aax**2 + aay**2 + aaz**2)\n",
    "                for i in range(s.shape[0]):\n",
    "                    if s[i] >= 1.6:\n",
    "                        st = i - 38\n",
    "                        ed =  i + 39\n",
    "                        if st < 0 or ed >= s.shape[0]:\n",
    "                            continue\n",
    "                        \n",
    "                        tmp = np.array(list(zip(aax[st:ed],aay[st:ed],aaz[st:ed])))\n",
    "\n",
    "                        \n",
    "                        x.append(tmp)\n",
    "                        y.append(1)\n",
    "\n",
    "\n",
    "            else:\n",
    "                # Fall Data\n",
    "                df = pd.read_csv(os.path.join(dirpath, filename),header=None)\n",
    "                ax = np.array(df[0])*32/8192\n",
    "                ay = np.array(df[1])*32/8192\n",
    "                az = np.array(df[2])*32/8192\n",
    "                m = 0\n",
    "                aax = ax[np.arange(m,ax.shape[0],8)]\n",
    "                aay = ay[np.arange(m,ax.shape[0],8)]\n",
    "                aaz = az[np.arange(m,ax.shape[0],8)]\n",
    "                s = np.sqrt(aax**2 + aay**2 + aaz**2)\n",
    "                i = np.argmax(s)\n",
    "                st = i - 38\n",
    "                ed =  i + 39\n",
    "\n",
    "                if st < 0 or ed >= s.shape[0] or s[i] < 1.6:\n",
    "                    continue\n",
    "\n",
    "                tmp = np.array(list(zip(aax[st:ed],aay[st:ed],aaz[st:ed])))\n",
    "#                 cnt += 1\n",
    "#                 ind.append(s[i])\n",
    "                # ind.append(s.shape[0] - i - 1)\n",
    "                x.append(tmp)\n",
    "\n",
    "                y.append(0)\n"
   ]
  },
  {
   "cell_type": "code",
   "execution_count": 4,
   "metadata": {},
   "outputs": [
    {
     "name": "stdout",
     "output_type": "stream",
     "text": [
      "(78723, 77, 3) (78723,)\n"
     ]
    }
   ],
   "source": [
    "X = np.array(x)\n",
    "Y = np.array(y)\n",
    "# x = X\n",
    "# y = Y\n",
    "print(X.shape,Y.shape)"
   ]
  },
  {
   "cell_type": "code",
   "execution_count": 5,
   "metadata": {},
   "outputs": [
    {
     "name": "stdout",
     "output_type": "stream",
     "text": [
      "(78723, 77, 3) (78723,) (78723, 231)\n"
     ]
    }
   ],
   "source": [
    "from imblearn.over_sampling import SMOTE\n",
    "from imblearn.under_sampling import RandomUnderSampler\n",
    "from imblearn.pipeline import Pipeline\n",
    "orig_shape = X.shape\n",
    "\n",
    "wX = X.reshape(-1,231)\n",
    "print(X.shape,Y.shape,wX.shape)\n",
    "\n",
    "over = SMOTE(sampling_strategy=0.1)\n",
    "under = RandomUnderSampler(sampling_strategy=0.5)\n",
    "steps = [('o', over), ('u', under)]\n",
    "pipeline = Pipeline(steps=steps)\n",
    "# transform the dataset\n",
    "new_X, new_Y = pipeline.fit_resample(wX, Y)"
   ]
  },
  {
   "cell_type": "code",
   "execution_count": 7,
   "metadata": {},
   "outputs": [
    {
     "name": "stdout",
     "output_type": "stream",
     "text": [
      "(23076, 77, 3, 1) (23076, 2)\n"
     ]
    },
    {
     "data": {
      "text/plain": [
       "Counter({0: 7692, 1: 15384})"
      ]
     },
     "execution_count": 7,
     "metadata": {},
     "output_type": "execute_result"
    }
   ],
   "source": [
    "# X = new_X.reshape(-1,77,3,1)\n",
    "X = new_X.reshape((-1, 77, 3, 1))\n",
    "Y = keras.utils.to_categorical(new_Y)\n",
    "print(X.shape,Y.shape)\n",
    "from collections import Counter\n",
    "cnt =  Counter(new_Y)\n",
    "cnt"
   ]
  },
  {
   "cell_type": "code",
   "execution_count": 8,
   "metadata": {},
   "outputs": [],
   "source": [
    "from sklearn.model_selection import train_test_split\n",
    "X_train, X_test, y_train, y_test = train_test_split(X, Y, test_size=0.2, random_state=32)"
   ]
  },
  {
   "cell_type": "code",
   "execution_count": 9,
   "metadata": {},
   "outputs": [
    {
     "name": "stdout",
     "output_type": "stream",
     "text": [
      "Model: \"sequential\"\n",
      "_________________________________________________________________\n",
      " Layer (type)                Output Shape              Param #   \n",
      "=================================================================\n",
      " conv2d (Conv2D)             (None, 25, 1, 10)         160       \n",
      "                                                                 \n",
      " flatten (Flatten)           (None, 250)               0         \n",
      "                                                                 \n",
      " dense (Dense)               (None, 2)                 502       \n",
      "                                                                 \n",
      "=================================================================\n",
      "Total params: 662\n",
      "Trainable params: 662\n",
      "Non-trainable params: 0\n",
      "_________________________________________________________________\n"
     ]
    },
    {
     "name": "stderr",
     "output_type": "stream",
     "text": [
      "2022-09-07 01:49:23.508502: I tensorflow/core/platform/cpu_feature_guard.cc:193] This TensorFlow binary is optimized with oneAPI Deep Neural Network Library (oneDNN) to use the following CPU instructions in performance-critical operations:  AVX2 FMA\n",
      "To enable them in other operations, rebuild TensorFlow with the appropriate compiler flags.\n"
     ]
    }
   ],
   "source": [
    "from tensorflow.keras.models import Sequential\n",
    "from tensorflow.keras.layers import Dense, Conv2D, Flatten\n",
    "model = Sequential()\n",
    "model.add(Conv2D(10, kernel_size=(5,3), activation='relu', input_shape=(77,3,1),strides=3))\n",
    "model.add(Flatten())\n",
    "model.add(Dense(2, activation='softmax'))\n",
    "adam = tf.keras.optimizers.Adam(learning_rate=0.001,)\n",
    "model.compile(optimizer=adam, loss='categorical_crossentropy', metrics=['accuracy'])\n",
    "model.summary()"
   ]
  },
  {
   "cell_type": "code",
   "execution_count": 10,
   "metadata": {},
   "outputs": [
    {
     "name": "stdout",
     "output_type": "stream",
     "text": [
      "Epoch 1/20\n",
      "97/97 [==============================] - 1s 3ms/step - loss: 0.3008 - accuracy: 0.8469 - val_loss: 0.0753 - val_accuracy: 0.9947\n",
      "Epoch 2/20\n",
      "97/97 [==============================] - 0s 2ms/step - loss: 0.0378 - accuracy: 0.9958 - val_loss: 0.0269 - val_accuracy: 0.9951\n",
      "Epoch 3/20\n",
      "97/97 [==============================] - 0s 2ms/step - loss: 0.0222 - accuracy: 0.9958 - val_loss: 0.0228 - val_accuracy: 0.9952\n",
      "Epoch 4/20\n",
      "97/97 [==============================] - 0s 2ms/step - loss: 0.0198 - accuracy: 0.9959 - val_loss: 0.0215 - val_accuracy: 0.9954\n",
      "Epoch 5/20\n",
      "97/97 [==============================] - 0s 2ms/step - loss: 0.0186 - accuracy: 0.9960 - val_loss: 0.0205 - val_accuracy: 0.9956\n",
      "Epoch 6/20\n",
      "97/97 [==============================] - 0s 2ms/step - loss: 0.0177 - accuracy: 0.9964 - val_loss: 0.0199 - val_accuracy: 0.9957\n",
      "Epoch 7/20\n",
      "97/97 [==============================] - 0s 2ms/step - loss: 0.0169 - accuracy: 0.9966 - val_loss: 0.0192 - val_accuracy: 0.9962\n",
      "Epoch 8/20\n",
      "97/97 [==============================] - 0s 2ms/step - loss: 0.0160 - accuracy: 0.9968 - val_loss: 0.0192 - val_accuracy: 0.9964\n",
      "Epoch 9/20\n",
      "97/97 [==============================] - 0s 2ms/step - loss: 0.0156 - accuracy: 0.9972 - val_loss: 0.0183 - val_accuracy: 0.9964\n",
      "Epoch 10/20\n",
      "97/97 [==============================] - 0s 2ms/step - loss: 0.0150 - accuracy: 0.9973 - val_loss: 0.0181 - val_accuracy: 0.9964\n",
      "Epoch 11/20\n",
      "97/97 [==============================] - 0s 2ms/step - loss: 0.0148 - accuracy: 0.9973 - val_loss: 0.0177 - val_accuracy: 0.9964\n",
      "Epoch 12/20\n",
      "97/97 [==============================] - 0s 2ms/step - loss: 0.0141 - accuracy: 0.9973 - val_loss: 0.0173 - val_accuracy: 0.9966\n",
      "Epoch 13/20\n",
      "97/97 [==============================] - 0s 2ms/step - loss: 0.0135 - accuracy: 0.9973 - val_loss: 0.0170 - val_accuracy: 0.9966\n",
      "Epoch 14/20\n",
      "97/97 [==============================] - 0s 2ms/step - loss: 0.0132 - accuracy: 0.9973 - val_loss: 0.0166 - val_accuracy: 0.9966\n",
      "Epoch 15/20\n",
      "97/97 [==============================] - 0s 2ms/step - loss: 0.0128 - accuracy: 0.9975 - val_loss: 0.0163 - val_accuracy: 0.9967\n",
      "Epoch 16/20\n",
      "97/97 [==============================] - 0s 2ms/step - loss: 0.0124 - accuracy: 0.9974 - val_loss: 0.0159 - val_accuracy: 0.9969\n",
      "Epoch 17/20\n",
      "97/97 [==============================] - 0s 2ms/step - loss: 0.0119 - accuracy: 0.9975 - val_loss: 0.0159 - val_accuracy: 0.9967\n",
      "Epoch 18/20\n",
      "97/97 [==============================] - 0s 2ms/step - loss: 0.0115 - accuracy: 0.9976 - val_loss: 0.0155 - val_accuracy: 0.9969\n",
      "Epoch 19/20\n",
      "97/97 [==============================] - 0s 2ms/step - loss: 0.0112 - accuracy: 0.9976 - val_loss: 0.0156 - val_accuracy: 0.9970\n",
      "Epoch 20/20\n",
      "97/97 [==============================] - 0s 2ms/step - loss: 0.0108 - accuracy: 0.9977 - val_loss: 0.0150 - val_accuracy: 0.9970\n"
     ]
    },
    {
     "data": {
      "text/plain": [
       "<keras.callbacks.History at 0x7f06d053f130>"
      ]
     },
     "execution_count": 10,
     "metadata": {},
     "output_type": "execute_result"
    }
   ],
   "source": [
    "model.fit(X_train, y_train, validation_split=0.33, epochs=20,batch_size=128)"
   ]
  },
  {
   "cell_type": "code",
   "execution_count": 11,
   "metadata": {},
   "outputs": [
    {
     "name": "stdout",
     "output_type": "stream",
     "text": [
      "(4616, 77, 3, 1) (4616, 2)\n",
      "37/37 [==============================] - 0s 925us/step - loss: 0.0146 - accuracy: 0.9968\n"
     ]
    }
   ],
   "source": [
    "print(X_test.shape,y_test.shape)\n",
    "results = model.evaluate(X_test, y_test, batch_size=128)"
   ]
  },
  {
   "cell_type": "code",
   "execution_count": 12,
   "metadata": {},
   "outputs": [
    {
     "name": "stdout",
     "output_type": "stream",
     "text": [
      "37/37 [==============================] - 0s 905us/step\n",
      "Confusion matrix:\n",
      " [[1547   12]\n",
      " [   3 3054]]\n",
      "sensitivity 0.9923027581783195\n",
      "specificity 0.9990186457311089\n"
     ]
    }
   ],
   "source": [
    "from sklearn.metrics import confusion_matrix\n",
    "\n",
    "\n",
    "predictions = model.predict(X_test, batch_size=128, verbose=1)\n",
    "classes_x=(np.argmax(predictions,axis=1))\n",
    "true_classes = y_test\n",
    "\n",
    "y_test_flat = np.argmax(y_test, axis=-1)\n",
    "c = confusion_matrix(y_test_flat, classes_x)\n",
    "print('Confusion matrix:\\n', c)\n",
    "print('sensitivity', c[0, 0] / (c[0, 1] + c[0, 0]))\n",
    "print('specificity', c[1, 1] / (c[1, 1] + c[1, 0]))"
   ]
  },
  {
   "cell_type": "code",
   "execution_count": 27,
   "metadata": {},
   "outputs": [
    {
     "data": {
      "text/html": [
       "<div>\n",
       "<style scoped>\n",
       "    .dataframe tbody tr th:only-of-type {\n",
       "        vertical-align: middle;\n",
       "    }\n",
       "\n",
       "    .dataframe tbody tr th {\n",
       "        vertical-align: top;\n",
       "    }\n",
       "\n",
       "    .dataframe thead th {\n",
       "        text-align: right;\n",
       "    }\n",
       "</style>\n",
       "<table border=\"1\" class=\"dataframe\">\n",
       "  <thead>\n",
       "    <tr style=\"text-align: right;\">\n",
       "      <th></th>\n",
       "      <th>0</th>\n",
       "      <th>1</th>\n",
       "      <th>2</th>\n",
       "      <th>3</th>\n",
       "      <th>4</th>\n",
       "      <th>5</th>\n",
       "      <th>6</th>\n",
       "    </tr>\n",
       "  </thead>\n",
       "  <tbody>\n",
       "    <tr>\n",
       "      <th>0</th>\n",
       "      <td>10852</td>\n",
       "      <td>0.10</td>\n",
       "      <td>0.40</td>\n",
       "      <td>-0.01</td>\n",
       "      <td>-0.04</td>\n",
       "      <td>0.34</td>\n",
       "      <td>-0.17</td>\n",
       "    </tr>\n",
       "    <tr>\n",
       "      <th>1</th>\n",
       "      <td>10855</td>\n",
       "      <td>0.14</td>\n",
       "      <td>0.56</td>\n",
       "      <td>-0.01</td>\n",
       "      <td>-0.05</td>\n",
       "      <td>0.35</td>\n",
       "      <td>-0.17</td>\n",
       "    </tr>\n",
       "    <tr>\n",
       "      <th>2</th>\n",
       "      <td>10859</td>\n",
       "      <td>0.17</td>\n",
       "      <td>0.70</td>\n",
       "      <td>0.00</td>\n",
       "      <td>-0.05</td>\n",
       "      <td>0.36</td>\n",
       "      <td>-0.17</td>\n",
       "    </tr>\n",
       "    <tr>\n",
       "      <th>3</th>\n",
       "      <td>10863</td>\n",
       "      <td>0.18</td>\n",
       "      <td>0.78</td>\n",
       "      <td>0.02</td>\n",
       "      <td>-0.05</td>\n",
       "      <td>0.37</td>\n",
       "      <td>-0.18</td>\n",
       "    </tr>\n",
       "    <tr>\n",
       "      <th>4</th>\n",
       "      <td>10867</td>\n",
       "      <td>0.18</td>\n",
       "      <td>0.83</td>\n",
       "      <td>0.04</td>\n",
       "      <td>-0.05</td>\n",
       "      <td>0.38</td>\n",
       "      <td>-0.18</td>\n",
       "    </tr>\n",
       "    <tr>\n",
       "      <th>...</th>\n",
       "      <td>...</td>\n",
       "      <td>...</td>\n",
       "      <td>...</td>\n",
       "      <td>...</td>\n",
       "      <td>...</td>\n",
       "      <td>...</td>\n",
       "      <td>...</td>\n",
       "    </tr>\n",
       "    <tr>\n",
       "      <th>685</th>\n",
       "      <td>13591</td>\n",
       "      <td>0.00</td>\n",
       "      <td>-0.11</td>\n",
       "      <td>-0.20</td>\n",
       "      <td>0.88</td>\n",
       "      <td>2.07</td>\n",
       "      <td>-2.42</td>\n",
       "    </tr>\n",
       "    <tr>\n",
       "      <th>686</th>\n",
       "      <td>13595</td>\n",
       "      <td>0.00</td>\n",
       "      <td>-0.12</td>\n",
       "      <td>-0.20</td>\n",
       "      <td>0.91</td>\n",
       "      <td>2.12</td>\n",
       "      <td>-2.44</td>\n",
       "    </tr>\n",
       "    <tr>\n",
       "      <th>687</th>\n",
       "      <td>13599</td>\n",
       "      <td>0.00</td>\n",
       "      <td>-0.13</td>\n",
       "      <td>-0.21</td>\n",
       "      <td>0.94</td>\n",
       "      <td>2.16</td>\n",
       "      <td>-2.45</td>\n",
       "    </tr>\n",
       "    <tr>\n",
       "      <th>688</th>\n",
       "      <td>13603</td>\n",
       "      <td>0.01</td>\n",
       "      <td>-0.15</td>\n",
       "      <td>-0.21</td>\n",
       "      <td>0.97</td>\n",
       "      <td>2.21</td>\n",
       "      <td>-2.47</td>\n",
       "    </tr>\n",
       "    <tr>\n",
       "      <th>689</th>\n",
       "      <td>13607</td>\n",
       "      <td>0.01</td>\n",
       "      <td>-0.16</td>\n",
       "      <td>-0.22</td>\n",
       "      <td>1.00</td>\n",
       "      <td>2.26</td>\n",
       "      <td>-2.48</td>\n",
       "    </tr>\n",
       "  </tbody>\n",
       "</table>\n",
       "<p>690 rows × 7 columns</p>\n",
       "</div>"
      ],
      "text/plain": [
       "         0     1     2     3     4     5     6\n",
       "0    10852  0.10  0.40 -0.01 -0.04  0.34 -0.17\n",
       "1    10855  0.14  0.56 -0.01 -0.05  0.35 -0.17\n",
       "2    10859  0.17  0.70  0.00 -0.05  0.36 -0.17\n",
       "3    10863  0.18  0.78  0.02 -0.05  0.37 -0.18\n",
       "4    10867  0.18  0.83  0.04 -0.05  0.38 -0.18\n",
       "..     ...   ...   ...   ...   ...   ...   ...\n",
       "685  13591  0.00 -0.11 -0.20  0.88  2.07 -2.42\n",
       "686  13595  0.00 -0.12 -0.20  0.91  2.12 -2.44\n",
       "687  13599  0.00 -0.13 -0.21  0.94  2.16 -2.45\n",
       "688  13603  0.01 -0.15 -0.21  0.97  2.21 -2.47\n",
       "689  13607  0.01 -0.16 -0.22  1.00  2.26 -2.48\n",
       "\n",
       "[690 rows x 7 columns]"
      ]
     },
     "execution_count": 27,
     "metadata": {},
     "output_type": "execute_result"
    }
   ],
   "source": [
    "df = pd.read_csv(\"./Fall Data (New)/Same floor falls/TESTING_ML_BB_v84.txt\",header=None)\n",
    "fall_time = df[df[1].isna()]\n",
    "df = df[df[1].notna()]\n",
    "df\n",
    "# fall_time"
   ]
  },
  {
   "cell_type": "code",
   "execution_count": 28,
   "metadata": {},
   "outputs": [
    {
     "data": {
      "text/html": [
       "<div>\n",
       "<style scoped>\n",
       "    .dataframe tbody tr th:only-of-type {\n",
       "        vertical-align: middle;\n",
       "    }\n",
       "\n",
       "    .dataframe tbody tr th {\n",
       "        vertical-align: top;\n",
       "    }\n",
       "\n",
       "    .dataframe thead th {\n",
       "        text-align: right;\n",
       "    }\n",
       "</style>\n",
       "<table border=\"1\" class=\"dataframe\">\n",
       "  <thead>\n",
       "    <tr style=\"text-align: right;\">\n",
       "      <th></th>\n",
       "      <th>0</th>\n",
       "      <th>1</th>\n",
       "      <th>2</th>\n",
       "      <th>3</th>\n",
       "      <th>4</th>\n",
       "      <th>5</th>\n",
       "      <th>6</th>\n",
       "    </tr>\n",
       "  </thead>\n",
       "  <tbody>\n",
       "  </tbody>\n",
       "</table>\n",
       "</div>"
      ],
      "text/plain": [
       "Empty DataFrame\n",
       "Columns: [0, 1, 2, 3, 4, 5, 6]\n",
       "Index: []"
      ]
     },
     "execution_count": 28,
     "metadata": {},
     "output_type": "execute_result"
    }
   ],
   "source": [
    "fall_time\n"
   ]
  },
  {
   "cell_type": "code",
   "execution_count": 29,
   "metadata": {},
   "outputs": [
    {
     "data": {
      "image/png": "[encoded data removed]",
      "text/plain": [
       "<Figure size 640x480 with 1 Axes>"
      ]
     },
     "metadata": {},
     "output_type": "display_data"
    }
   ],
   "source": [
    "\n",
    "ax = np.array(df[1])\n",
    "ay = np.array(df[2])\n",
    "az = np.array(df[3])\n",
    "\n",
    "time = np.array(df[0],dtype=int)\n",
    "# aax = ax[np.arange(0,ax.shape[0],20)]\n",
    "# aay = ay[np.arange(0,ax.shape[0],20)]\n",
    "# aaz = az[np.arange(0,ax.shape[0],20)]\n",
    "# time = time[np.arange(0,ax.shape[0],20)]\n",
    "s =np.sqrt(ax**2 + ay**2 + az**2)\n",
    "\n",
    "import matplotlib.pyplot as plt\n",
    "\n",
    "# one = [1 for i in range(len(s))]\n",
    "plt.xticks(np.arange(time[0], time[-1], 500),fontsize=5)\n",
    "plt.plot(time, s)\n",
    "# plt.plot(time, one)\n",
    "plt.ylim(0, 2)\n",
    "plt.show()\n",
    "# print(time)\n"
   ]
  },
  {
   "cell_type": "code",
   "execution_count": 16,
   "metadata": {},
   "outputs": [
    {
     "name": "stdout",
     "output_type": "stream",
     "text": [
      "7527\n",
      "ADL 7527\n",
      "7531\n",
      "ADL 7531\n",
      "7535\n",
      "ADL 7535\n",
      "7539\n",
      "ADL 7539\n",
      "7543\n",
      "ADL 7543\n",
      "7547\n",
      "ADL 7547\n"
     ]
    }
   ],
   "source": [
    "# print(s.shape[0])\n",
    "for i in range(s.shape[0]):\n",
    "    if s[i] > 1.6:\n",
    "        print(time[i])\n",
    "        tmp = np.array([])\n",
    "        st = i - 38\n",
    "        ed =  i + 39\n",
    "        if st < 0:\n",
    "            continue\n",
    "            tmp = np.zeros((-st,3))\n",
    "            for j in range(tmp.shape[0]):\n",
    "                tmp[j][1] = -1\n",
    "            st = 0\n",
    "            tmp = np.vstack((tmp,np.array(list(zip(aax[st:ed],aay[st:ed],aaz[st:ed])))))\n",
    "        elif ed >= s.shape[0]:\n",
    "            continue\n",
    "            tmp2 = np.zeros((ed - s.shape[0] + 1,3))\n",
    "            for j in range(tmp2.shape[0]):\n",
    "                tmp2[j][1] = -1\n",
    "            ed = s.shape[0] - 1\n",
    "            tmp = np.vstack((np.array(list(zip(aax[st:ed],aay[st:ed],aaz[st:ed]))),tmp2))\n",
    "        else:\n",
    "            tmp = np.array(list(zip(aax[st:ed],aay[st:ed],aaz[st:ed])))\n",
    "\n",
    "        tmp = tmp.reshape(-1,77,3,1)\n",
    "        res = (model.predict(tmp,verbose=0))\n",
    "        lst = list(df[0])\n",
    "        if res[0][0] > res[0][1]:\n",
    "            print(\"Fall\",time[i])\n",
    "        else:\n",
    "            print(\"ADL\",time[i])\n"
   ]
  },
  {
   "cell_type": "code",
   "execution_count": 19,
   "metadata": {},
   "outputs": [
    {
     "name": "stdout",
     "output_type": "stream",
     "text": [
      "(23076, 231)\n",
      "Model: \"sequential_1\"\n",
      "_________________________________________________________________\n",
      " Layer (type)                Output Shape              Param #   \n",
      "=================================================================\n",
      " dense_1 (Dense)             (None, 10)                2320      \n",
      "                                                                 \n",
      " dense_2 (Dense)             (None, 2)                 22        \n",
      "                                                                 \n",
      "=================================================================\n",
      "Total params: 2,342\n",
      "Trainable params: 2,342\n",
      "Non-trainable params: 0\n",
      "_________________________________________________________________\n"
     ]
    }
   ],
   "source": [
    "\n",
    "x_flattened = X.reshape(-1,231)\n",
    "print(x_flattened.shape)\n",
    "X_train, X_test, y_train, y_test = train_test_split(x_flattened, Y, test_size=0.2, random_state=32)\n",
    "model2 = Sequential()\n",
    "model2.add(Dense(10, activation='relu', input_dim=231))\n",
    "model2.add(Dense(2, activation='softmax'))\n",
    "adam = tf.keras.optimizers.Adam(learning_rate=0.001,)\n",
    "model2.compile(optimizer=adam, loss='categorical_crossentropy', metrics=['accuracy'])\n",
    "# model2.build((77,3,1))\n",
    "model2.summary()"
   ]
  },
  {
   "cell_type": "code",
   "execution_count": 20,
   "metadata": {},
   "outputs": [
    {
     "name": "stdout",
     "output_type": "stream",
     "text": [
      "Epoch 1/20\n",
      "97/97 [==============================] - 0s 2ms/step - loss: 0.1574 - accuracy: 0.9419 - val_loss: 0.0345 - val_accuracy: 0.9943\n",
      "Epoch 2/20\n",
      "97/97 [==============================] - 0s 1ms/step - loss: 0.0238 - accuracy: 0.9962 - val_loss: 0.0220 - val_accuracy: 0.9959\n",
      "Epoch 3/20\n",
      "97/97 [==============================] - 0s 1ms/step - loss: 0.0166 - accuracy: 0.9964 - val_loss: 0.0187 - val_accuracy: 0.9966\n",
      "Epoch 4/20\n",
      "97/97 [==============================] - 0s 1ms/step - loss: 0.0134 - accuracy: 0.9972 - val_loss: 0.0166 - val_accuracy: 0.9967\n",
      "Epoch 5/20\n",
      "97/97 [==============================] - 0s 1ms/step - loss: 0.0113 - accuracy: 0.9974 - val_loss: 0.0161 - val_accuracy: 0.9967\n",
      "Epoch 6/20\n",
      "97/97 [==============================] - 0s 1ms/step - loss: 0.0097 - accuracy: 0.9978 - val_loss: 0.0146 - val_accuracy: 0.9974\n",
      "Epoch 7/20\n",
      "97/97 [==============================] - 0s 1ms/step - loss: 0.0089 - accuracy: 0.9981 - val_loss: 0.0135 - val_accuracy: 0.9972\n",
      "Epoch 8/20\n",
      "97/97 [==============================] - 0s 1ms/step - loss: 0.0079 - accuracy: 0.9984 - val_loss: 0.0132 - val_accuracy: 0.9974\n",
      "Epoch 9/20\n",
      "97/97 [==============================] - 0s 1ms/step - loss: 0.0072 - accuracy: 0.9984 - val_loss: 0.0122 - val_accuracy: 0.9972\n",
      "Epoch 10/20\n",
      "97/97 [==============================] - 0s 1ms/step - loss: 0.0064 - accuracy: 0.9985 - val_loss: 0.0125 - val_accuracy: 0.9975\n",
      "Epoch 11/20\n",
      "97/97 [==============================] - 0s 1ms/step - loss: 0.0061 - accuracy: 0.9985 - val_loss: 0.0111 - val_accuracy: 0.9980\n",
      "Epoch 12/20\n",
      "97/97 [==============================] - 0s 1ms/step - loss: 0.0055 - accuracy: 0.9987 - val_loss: 0.0113 - val_accuracy: 0.9980\n",
      "Epoch 13/20\n",
      "97/97 [==============================] - 0s 1ms/step - loss: 0.0052 - accuracy: 0.9989 - val_loss: 0.0103 - val_accuracy: 0.9982\n",
      "Epoch 14/20\n",
      "97/97 [==============================] - 0s 1ms/step - loss: 0.0049 - accuracy: 0.9989 - val_loss: 0.0100 - val_accuracy: 0.9979\n",
      "Epoch 15/20\n",
      "97/97 [==============================] - 0s 1ms/step - loss: 0.0043 - accuracy: 0.9990 - val_loss: 0.0096 - val_accuracy: 0.9984\n",
      "Epoch 16/20\n",
      "97/97 [==============================] - 0s 1ms/step - loss: 0.0040 - accuracy: 0.9991 - val_loss: 0.0095 - val_accuracy: 0.9982\n",
      "Epoch 17/20\n",
      "97/97 [==============================] - 0s 1ms/step - loss: 0.0037 - accuracy: 0.9992 - val_loss: 0.0094 - val_accuracy: 0.9977\n",
      "Epoch 18/20\n",
      "97/97 [==============================] - 0s 1ms/step - loss: 0.0036 - accuracy: 0.9991 - val_loss: 0.0090 - val_accuracy: 0.9980\n",
      "Epoch 19/20\n",
      "97/97 [==============================] - 0s 1ms/step - loss: 0.0033 - accuracy: 0.9994 - val_loss: 0.0090 - val_accuracy: 0.9982\n",
      "Epoch 20/20\n",
      "97/97 [==============================] - 0s 1ms/step - loss: 0.0031 - accuracy: 0.9994 - val_loss: 0.0087 - val_accuracy: 0.9984\n"
     ]
    },
    {
     "data": {
      "text/plain": [
       "<keras.callbacks.History at 0x7f062826ac20>"
      ]
     },
     "execution_count": 20,
     "metadata": {},
     "output_type": "execute_result"
    }
   ],
   "source": [
    "\n",
    "model2.fit(X_train, y_train, validation_split=0.33, epochs=20,batch_size=128)"
   ]
  },
  {
   "cell_type": "code",
   "execution_count": 21,
   "metadata": {},
   "outputs": [
    {
     "name": "stdout",
     "output_type": "stream",
     "text": [
      "(4616, 231) (4616, 2)\n",
      "37/37 [==============================] - 0s 752us/step - loss: 0.0048 - accuracy: 0.9983\n"
     ]
    }
   ],
   "source": [
    "print(X_test.shape,y_test.shape)\n",
    "results = model2.evaluate(X_test, y_test, batch_size=128)\n"
   ]
  },
  {
   "cell_type": "code",
   "execution_count": 22,
   "metadata": {},
   "outputs": [
    {
     "name": "stdout",
     "output_type": "stream",
     "text": [
      "37/37 [==============================] - 0s 625us/step\n",
      "Confusion matrix:\n",
      " [[1553    6]\n",
      " [   2 3055]]\n",
      "sensitivity 0.9961513790891597\n",
      "specificity 0.9993457638207393\n"
     ]
    }
   ],
   "source": [
    "from sklearn.metrics import confusion_matrix\n",
    "\n",
    "\n",
    "predictions = model2.predict(X_test, batch_size=128, verbose=1)\n",
    "classes_x=(np.argmax(predictions,axis=1))\n",
    "true_classes = y_test\n",
    "\n",
    "y_test = np.argmax(y_test, axis=-1)\n",
    "c = confusion_matrix(y_test, classes_x)\n",
    "print('Confusion matrix:\\n', c)\n",
    "print('sensitivity', c[0, 0] / (c[0, 1] + c[0, 0]))\n",
    "print('specificity', c[1, 1] / (c[1, 1] + c[1, 0]))"
   ]
  },
  {
   "cell_type": "code",
   "execution_count": null,
   "metadata": {},
   "outputs": [],
   "source": []
  }
 ],
 "metadata": {
  "kernelspec": {
   "display_name": "Python 3 (ipykernel)",
   "language": "python",
   "name": "python3"
  },
  "language_info": {
   "codemirror_mode": {
    "name": "ipython",
    "version": 3
   },
   "file_extension": ".py",
   "mimetype": "text/x-python",
   "name": "python",
   "nbconvert_exporter": "python",
   "pygments_lexer": "ipython3",
   "version": "3.10.6"
  },
  "vscode": {
   "interpreter": {
    "hash": "5609a82b186107e1566a25a9d90b091b01011b4496a5dba96eac49f7f2fc4c42"
   }
  }
 },
 "nbformat": 4,
 "nbformat_minor": 2
}
