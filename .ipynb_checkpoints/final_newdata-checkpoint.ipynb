{
 "cells": [
  {
   "cell_type": "code",
   "execution_count": 1,
   "id": "1fea095d",
   "metadata": {},
   "outputs": [
    {
     "name": "stderr",
     "output_type": "stream",
     "text": [
      "2022-09-07 02:15:20.027546: W tensorflow/stream_executor/platform/default/dso_loader.cc:64] Could not load dynamic library 'libcudart.so.11.0'; dlerror: libcudart.so.11.0: cannot open shared object file: No such file or directory\n",
      "2022-09-07 02:15:20.027564: I tensorflow/stream_executor/cuda/cudart_stub.cc:29] Ignore above cudart dlerror if you do not have a GPU set up on your machine.\n"
     ]
    }
   ],
   "source": [
    "import os\n",
    "import os.path\n",
    "import tensorflow as tf\n",
    "from tensorflow import keras\n",
    "import pandas as pd\n",
    "import numpy as np"
   ]
  },
  {
   "cell_type": "code",
   "execution_count": null,
   "id": "12307efe",
   "metadata": {},
   "outputs": [
    {
     "name": "stdout",
     "output_type": "stream",
     "text": [
      "TESTING_ML_v58.txt\n",
      "TESTING_ML_v55.txt\n",
      "TESTING_ML_v49.txt\n",
      "TESTING_ML_v9.txt\n",
      "TESTING_ML_v19.txt\n",
      "TESTING_ML_v29.txt\n",
      "TESTING_ML_v57.txt\n",
      "TESTING_ML_v25.txt\n",
      "TESTING_ML_v50.txt\n",
      "TESTING_ML_v23.txt\n",
      "TESTING_ML_v30.txt\n",
      "TESTING_ML_v56.txt\n",
      "TESTING_ML_v18.txt 1053 1953 1.5077466630704246\n",
      "TESTING_ML_v53.txt\n",
      "TESTING_ML_v28.txt\n",
      "TESTING_ML_v40.txt\n",
      "TESTING_ML_v16.txt\n",
      "TESTING_ML_v20.txt -78 822 4.7132685049761385\n"
     ]
    }
   ],
   "source": [
    "x = []\n",
    "y = []\n",
    "\n",
    "for dirpath, dirnames, filenames in os.walk(\"./Fall Data (New)/\"):\n",
    "    for filename in [f for f in filenames if f.endswith(\".txt\")]:\n",
    "        df = pd.read_csv(os.path.join(dirpath, filename),header=None)\n",
    "        fall_time = df[df[1].isna()]\n",
    "        df = df[df[1].notna()]\n",
    "        ax = np.array(df[1])\n",
    "        ay = np.array(df[2])\n",
    "        az = np.array(df[3])\n",
    "        gx = np.array(df[4])\n",
    "        gy = np.array(df[5])\n",
    "        gz = np.array(df[6])\n",
    "        time = np.array(df[0])\n",
    "        a = np.sqrt(ax**2 + ay**2 + az**2)\n",
    "        if filename[0] == \"A\":\n",
    "            # ADL file\n",
    "            for i in range(a.shape[0]):\n",
    "                if a[i] >= 1.6:\n",
    "                    st = i - 450\n",
    "                    ed =  i + 450\n",
    "                    if st < 0 or ed >= a.shape[0]:\n",
    "                        continue\n",
    "\n",
    "                    tmp = np.array(list(zip(ax[st:ed],ay[st:ed],az[st:ed],gx[st:ed],gy[st:ed],gz[st:ed])))\n",
    "\n",
    "\n",
    "                    x.append(tmp)\n",
    "                    y.append(1)\n",
    "\n",
    "\n",
    "        else:\n",
    "            # Fall Data\n",
    "            i = np.argmax(a)\n",
    "#             val = int(np.array(fall_time[0])[1])\n",
    "#             i = np.where(time == val)[0][0]\n",
    "            st = i - 450\n",
    "            ed =  i + 450\n",
    "            if st < 0 or ed >= a.shape[0] or a[i] < 1.6:\n",
    "#                 print(filename)\n",
    "                print(filename,st,ed,a[i])\n",
    "                continue\n",
    "            print(filename)\n",
    "            tmp = np.array(list(zip(ax[st:ed],ay[st:ed],az[st:ed],gx[st:ed],gy[st:ed],gz[st:ed])))\n",
    "            x.append(tmp)\n",
    "            y.append(0)\n"
   ]
  },
  {
   "cell_type": "code",
   "execution_count": 4,
   "id": "84ddfedd",
   "metadata": {},
   "outputs": [
    {
     "data": {
      "text/plain": [
       "Counter({0: 24, 1: 9446})"
      ]
     },
     "execution_count": 4,
     "metadata": {},
     "output_type": "execute_result"
    }
   ],
   "source": [
    "from collections import Counter\n",
    "cnt =  Counter(y)\n",
    "cnt"
   ]
  },
  {
   "cell_type": "code",
   "execution_count": 5,
   "id": "1be97f64",
   "metadata": {},
   "outputs": [
    {
     "name": "stdout",
     "output_type": "stream",
     "text": [
      "(9470, 900, 6, 1) (9470,)\n"
     ]
    }
   ],
   "source": [
    "X = np.array(x)\n",
    "Y = np.array(y)\n",
    "X = X.reshape(-1,900,6,1)\n",
    "# X_flat = X.reshape(-1,5400)\n",
    "print(X.shape,Y.shape)\n"
   ]
  },
  {
   "cell_type": "code",
   "execution_count": 29,
   "id": "6727df39",
   "metadata": {},
   "outputs": [
    {
     "name": "stdout",
     "output_type": "stream",
     "text": [
      "(1894, 900, 6, 1)\n"
     ]
    }
   ],
   "source": [
    "from sklearn.model_selection import train_test_split\n",
    "X_train, X_test, y_train, y_test = train_test_split(X, Y, test_size=0.2, random_state=50)\n",
    "X_flat_train = X_train.reshape(-1,5400)\n",
    "X_flat_test = X_test.reshape(-1,5400)\n",
    "y_train_cat = keras.utils.to_categorical(y_train)\n",
    "y_test_cat = keras.utils.to_categorical(y_test)\n",
    "print(X_test.shape)\n"
   ]
  },
  {
   "cell_type": "code",
   "execution_count": 30,
   "id": "11dba25d",
   "metadata": {},
   "outputs": [
    {
     "name": "stdout",
     "output_type": "stream",
     "text": [
      "Model: \"sequential_6\"\n",
      "_________________________________________________________________\n",
      " Layer (type)                Output Shape              Param #   \n",
      "=================================================================\n",
      " conv2d_5 (Conv2D)           (None, 18, 1, 10)         3010      \n",
      "                                                                 \n",
      " flatten_5 (Flatten)         (None, 180)               0         \n",
      "                                                                 \n",
      " dense_8 (Dense)             (None, 2)                 362       \n",
      "                                                                 \n",
      "=================================================================\n",
      "Total params: 3,372\n",
      "Trainable params: 3,372\n",
      "Non-trainable params: 0\n",
      "_________________________________________________________________\n"
     ]
    }
   ],
   "source": [
    "from tensorflow.keras.models import Sequential\n",
    "from tensorflow.keras.layers import Dense, Conv2D, Flatten\n",
    "model = Sequential()\n",
    "model.add(Conv2D(10, kernel_size=(50,6), activation='relu', input_shape=(900,6,1),strides=50))\n",
    "model.add(Flatten())\n",
    "model.add(Dense(2, activation='softmax'))\n",
    "adam = tf.keras.optimizers.Adam(learning_rate=0.001,)\n",
    "model.compile(optimizer=adam, loss='categorical_crossentropy', metrics=['accuracy'])\n",
    "model.summary()"
   ]
  },
  {
   "cell_type": "code",
   "execution_count": 31,
   "id": "783670b2",
   "metadata": {},
   "outputs": [
    {
     "name": "stdout",
     "output_type": "stream",
     "text": [
      "Epoch 1/20\n",
      "45/45 [==============================] - 1s 9ms/step - loss: 0.0954 - accuracy: 0.9636 - val_loss: 0.0279 - val_accuracy: 0.9974\n",
      "Epoch 2/20\n",
      "45/45 [==============================] - 0s 7ms/step - loss: 0.0113 - accuracy: 0.9986 - val_loss: 0.0238 - val_accuracy: 0.9974\n",
      "Epoch 3/20\n",
      "45/45 [==============================] - 0s 7ms/step - loss: 0.0085 - accuracy: 0.9989 - val_loss: 0.0220 - val_accuracy: 0.9979\n",
      "Epoch 4/20\n",
      "45/45 [==============================] - 0s 7ms/step - loss: 0.0067 - accuracy: 0.9989 - val_loss: 0.0208 - val_accuracy: 0.9979\n",
      "Epoch 5/20\n",
      "45/45 [==============================] - 0s 7ms/step - loss: 0.0052 - accuracy: 0.9991 - val_loss: 0.0196 - val_accuracy: 0.9979\n",
      "Epoch 6/20\n",
      "45/45 [==============================] - 0s 7ms/step - loss: 0.0036 - accuracy: 0.9993 - val_loss: 0.0194 - val_accuracy: 0.9979\n",
      "Epoch 7/20\n",
      "45/45 [==============================] - 0s 7ms/step - loss: 0.0025 - accuracy: 0.9993 - val_loss: 0.0193 - val_accuracy: 0.9979\n",
      "Epoch 8/20\n",
      "45/45 [==============================] - 0s 7ms/step - loss: 0.0017 - accuracy: 0.9995 - val_loss: 0.0192 - val_accuracy: 0.9979\n",
      "Epoch 9/20\n",
      "45/45 [==============================] - 0s 7ms/step - loss: 0.0012 - accuracy: 0.9996 - val_loss: 0.0192 - val_accuracy: 0.9979\n",
      "Epoch 10/20\n",
      "45/45 [==============================] - 0s 7ms/step - loss: 9.4024e-04 - accuracy: 0.9998 - val_loss: 0.0201 - val_accuracy: 0.9979\n",
      "Epoch 11/20\n",
      "45/45 [==============================] - 0s 7ms/step - loss: 7.1126e-04 - accuracy: 0.9998 - val_loss: 0.0203 - val_accuracy: 0.9979\n",
      "Epoch 12/20\n",
      "45/45 [==============================] - 0s 7ms/step - loss: 5.9039e-04 - accuracy: 0.9998 - val_loss: 0.0206 - val_accuracy: 0.9979\n",
      "Epoch 13/20\n",
      "45/45 [==============================] - 0s 7ms/step - loss: 4.7229e-04 - accuracy: 1.0000 - val_loss: 0.0211 - val_accuracy: 0.9979\n",
      "Epoch 14/20\n",
      "45/45 [==============================] - 0s 7ms/step - loss: 4.1297e-04 - accuracy: 1.0000 - val_loss: 0.0211 - val_accuracy: 0.9979\n",
      "Epoch 15/20\n",
      "45/45 [==============================] - 0s 7ms/step - loss: 3.4044e-04 - accuracy: 1.0000 - val_loss: 0.0215 - val_accuracy: 0.9979\n",
      "Epoch 16/20\n",
      "45/45 [==============================] - 0s 7ms/step - loss: 2.8884e-04 - accuracy: 1.0000 - val_loss: 0.0217 - val_accuracy: 0.9979\n",
      "Epoch 17/20\n",
      "45/45 [==============================] - 0s 7ms/step - loss: 2.5722e-04 - accuracy: 1.0000 - val_loss: 0.0220 - val_accuracy: 0.9979\n",
      "Epoch 18/20\n",
      "45/45 [==============================] - 0s 7ms/step - loss: 2.1909e-04 - accuracy: 1.0000 - val_loss: 0.0223 - val_accuracy: 0.9979\n",
      "Epoch 19/20\n",
      "45/45 [==============================] - 0s 7ms/step - loss: 1.9375e-04 - accuracy: 1.0000 - val_loss: 0.0222 - val_accuracy: 0.9979\n",
      "Epoch 20/20\n",
      "45/45 [==============================] - 0s 7ms/step - loss: 1.7298e-04 - accuracy: 1.0000 - val_loss: 0.0224 - val_accuracy: 0.9979\n",
      "15/15 [==============================] - 0s 2ms/step - loss: 0.0472 - accuracy: 0.9974\n"
     ]
    }
   ],
   "source": [
    "model.fit(X_train, y_train_cat, validation_split=0.25, epochs=20,batch_size=128)\n",
    "results = model.evaluate(X_test, y_test_cat, batch_size=128)"
   ]
  },
  {
   "cell_type": "code",
   "execution_count": 32,
   "id": "ae37bc52",
   "metadata": {},
   "outputs": [
    {
     "name": "stdout",
     "output_type": "stream",
     "text": [
      "(1894,)\n"
     ]
    }
   ],
   "source": [
    "print(y_test.shape)"
   ]
  },
  {
   "cell_type": "code",
   "execution_count": 33,
   "id": "69588a05",
   "metadata": {},
   "outputs": [
    {
     "name": "stdout",
     "output_type": "stream",
     "text": [
      "15/15 [==============================] - 0s 2ms/step\n",
      "[[3.1633874e-08 9.9999994e-01]\n",
      " [3.8094547e-07 9.9999958e-01]\n",
      " [1.2275630e-06 9.9999875e-01]\n",
      " ...\n",
      " [4.5137995e-06 9.9999547e-01]\n",
      " [1.4648714e-07 9.9999988e-01]\n",
      " [4.5016423e-05 9.9995494e-01]]\n",
      "Confusion matrix:\n",
      " [[   4    5]\n",
      " [   0 1885]]\n",
      "sensitivity 0.4444444444444444\n",
      "specificity 1.0\n"
     ]
    }
   ],
   "source": [
    "from sklearn.metrics import confusion_matrix\n",
    "\n",
    "\n",
    "predictions = model.predict(X_test, batch_size=128, verbose=1)\n",
    "classes_x=(np.argmax(predictions,axis=1))\n",
    "print(predictions)\n",
    "true_classes = y_test\n",
    "\n",
    "# y_test_flat = np.argmax(y_test, axis=-1)\n",
    "c = confusion_matrix(y_test, classes_x)\n",
    "print('Confusion matrix:\\n', c)\n",
    "print('sensitivity', c[0, 0] / (c[0, 1] + c[0, 0]))\n",
    "print('specificity', c[1, 1] / (c[1, 1] + c[1, 0]))"
   ]
  },
  {
   "cell_type": "code",
   "execution_count": 11,
   "id": "ff0cca7c",
   "metadata": {},
   "outputs": [
    {
     "name": "stdout",
     "output_type": "stream",
     "text": [
      "533 1 0\n",
      "1602 1 0\n"
     ]
    }
   ],
   "source": [
    "ind = 0\n",
    "for pa,pb in zip(classes_x,y_test):\n",
    "    if pa != pb:\n",
    "        print(ind,pa,pb)\n",
    "    ind += 1"
   ]
  },
  {
   "cell_type": "code",
   "execution_count": 12,
   "id": "3a118899",
   "metadata": {},
   "outputs": [
    {
     "data": {
      "text/plain": [
       "[array([-2.16]),\n",
       " array([0.63]),\n",
       " array([0.64]),\n",
       " array([-1.22]),\n",
       " array([-6.47]),\n",
       " array([2.21])]"
      ]
     },
     "execution_count": 12,
     "metadata": {},
     "output_type": "execute_result"
    }
   ],
   "source": [
    "list(X_test[497][450])"
   ]
  },
  {
   "cell_type": "code",
   "execution_count": 13,
   "id": "687ef864",
   "metadata": {},
   "outputs": [
    {
     "name": "stdout",
     "output_type": "stream",
     "text": [
      "Model: \"sequential_2\"\n",
      "_________________________________________________________________\n",
      " Layer (type)                Output Shape              Param #   \n",
      "=================================================================\n",
      " dense_2 (Dense)             (None, 100)               540100    \n",
      "                                                                 \n",
      " dense_3 (Dense)             (None, 10)                1010      \n",
      "                                                                 \n",
      " dense_4 (Dense)             (None, 1)                 11        \n",
      "                                                                 \n",
      "=================================================================\n",
      "Total params: 541,121\n",
      "Trainable params: 541,121\n",
      "Non-trainable params: 0\n",
      "_________________________________________________________________\n"
     ]
    }
   ],
   "source": [
    "from tensorflow.keras.models import Sequential\n",
    "from tensorflow.keras.layers import Dense, Conv2D, Flatten\n",
    "model = Sequential()\n",
    "# model.add(Conv2D(10, kernel_size=(5,6), activation='relu', input_shape=(900,6,1),strides=3))\n",
    "model.add(Dense(100, activation='relu',input_dim=5400))\n",
    "model.add(Dense(10, activation='relu'))\n",
    "\n",
    "# model.add(Flatten())\n",
    "model.add(Dense(1, activation='sigmoid'))\n",
    "adam = tf.keras.optimizers.Adam(learning_rate=0.001,)\n",
    "model.compile(optimizer=adam, loss='BinaryCrossentropy', metrics=['accuracy'])\n",
    "model.summary()"
   ]
  },
  {
   "cell_type": "code",
   "execution_count": 14,
   "id": "fee25335",
   "metadata": {},
   "outputs": [
    {
     "name": "stdout",
     "output_type": "stream",
     "text": [
      "Epoch 1/20\n",
      "45/45 [==============================] - 1s 9ms/step - loss: 0.0486 - accuracy: 0.9889 - val_loss: 0.0477 - val_accuracy: 0.9968\n",
      "Epoch 2/20\n",
      "45/45 [==============================] - 0s 9ms/step - loss: 0.0027 - accuracy: 0.9995 - val_loss: 0.0535 - val_accuracy: 0.9974\n",
      "Epoch 3/20\n",
      "45/45 [==============================] - 0s 10ms/step - loss: 9.9085e-04 - accuracy: 0.9996 - val_loss: 0.0416 - val_accuracy: 0.9984\n",
      "Epoch 4/20\n",
      "45/45 [==============================] - 0s 10ms/step - loss: 2.6674e-04 - accuracy: 0.9998 - val_loss: 0.0421 - val_accuracy: 0.9984\n",
      "Epoch 5/20\n",
      "45/45 [==============================] - 0s 9ms/step - loss: 1.3070e-04 - accuracy: 1.0000 - val_loss: 0.0421 - val_accuracy: 0.9984\n",
      "Epoch 6/20\n",
      "45/45 [==============================] - 0s 8ms/step - loss: 9.0429e-05 - accuracy: 1.0000 - val_loss: 0.0422 - val_accuracy: 0.9984\n",
      "Epoch 7/20\n",
      "45/45 [==============================] - 0s 7ms/step - loss: 7.5552e-05 - accuracy: 1.0000 - val_loss: 0.0424 - val_accuracy: 0.9984\n",
      "Epoch 8/20\n",
      "45/45 [==============================] - 0s 7ms/step - loss: 6.4199e-05 - accuracy: 1.0000 - val_loss: 0.0423 - val_accuracy: 0.9984\n",
      "Epoch 9/20\n",
      "45/45 [==============================] - 0s 7ms/step - loss: 5.2698e-05 - accuracy: 1.0000 - val_loss: 0.0424 - val_accuracy: 0.9984\n",
      "Epoch 10/20\n",
      "45/45 [==============================] - 0s 7ms/step - loss: 4.2653e-05 - accuracy: 1.0000 - val_loss: 0.0425 - val_accuracy: 0.9984\n",
      "Epoch 11/20\n",
      "45/45 [==============================] - 0s 6ms/step - loss: 3.4614e-05 - accuracy: 1.0000 - val_loss: 0.0425 - val_accuracy: 0.9984\n",
      "Epoch 12/20\n",
      "45/45 [==============================] - 0s 5ms/step - loss: 3.0771e-05 - accuracy: 1.0000 - val_loss: 0.0425 - val_accuracy: 0.9984\n",
      "Epoch 13/20\n",
      "45/45 [==============================] - 1s 12ms/step - loss: 2.7619e-05 - accuracy: 1.0000 - val_loss: 0.0426 - val_accuracy: 0.9984\n",
      "Epoch 14/20\n",
      "45/45 [==============================] - 0s 8ms/step - loss: 2.4252e-05 - accuracy: 1.0000 - val_loss: 0.0427 - val_accuracy: 0.9984\n",
      "Epoch 15/20\n",
      "45/45 [==============================] - 0s 6ms/step - loss: 2.3151e-05 - accuracy: 1.0000 - val_loss: 0.0427 - val_accuracy: 0.9984\n",
      "Epoch 16/20\n",
      "45/45 [==============================] - 0s 6ms/step - loss: 2.0128e-05 - accuracy: 1.0000 - val_loss: 0.0428 - val_accuracy: 0.9984\n",
      "Epoch 17/20\n",
      "45/45 [==============================] - 0s 6ms/step - loss: 1.8609e-05 - accuracy: 1.0000 - val_loss: 0.0428 - val_accuracy: 0.9984\n",
      "Epoch 18/20\n",
      "45/45 [==============================] - 0s 11ms/step - loss: 1.7062e-05 - accuracy: 1.0000 - val_loss: 0.0429 - val_accuracy: 0.9984\n",
      "Epoch 19/20\n",
      "45/45 [==============================] - 0s 7ms/step - loss: 1.5341e-05 - accuracy: 1.0000 - val_loss: 0.0428 - val_accuracy: 0.9984\n",
      "Epoch 20/20\n",
      "45/45 [==============================] - 0s 7ms/step - loss: 1.4383e-05 - accuracy: 1.0000 - val_loss: 0.0428 - val_accuracy: 0.9984\n",
      "15/15 [==============================] - 0s 3ms/step - loss: 0.0121 - accuracy: 0.9989\n"
     ]
    }
   ],
   "source": [
    "model.fit(X_flat_train, y_train, validation_split=0.25, epochs=20,batch_size=128)\n",
    "results = model.evaluate(X_flat_test, y_test, batch_size=128)"
   ]
  },
  {
   "cell_type": "code",
   "execution_count": 36,
   "id": "1927d6a5",
   "metadata": {},
   "outputs": [
    {
     "name": "stdout",
     "output_type": "stream",
     "text": [
      "(9470, 900, 6, 1) (9470,) (9470, 5400)\n"
     ]
    }
   ],
   "source": [
    "orig_shape = X.shape\n",
    "\n",
    "wX = X.reshape(-1,5400)\n",
    "print(X.shape,Y.shape,wX.shape)"
   ]
  },
  {
   "cell_type": "code",
   "execution_count": 37,
   "id": "b74b765c",
   "metadata": {},
   "outputs": [],
   "source": [
    "from imblearn.over_sampling import SMOTE\n",
    "from imblearn.under_sampling import RandomUnderSampler\n",
    "from imblearn.pipeline import Pipeline\n",
    "over = SMOTE(sampling_strategy=0.1)\n",
    "under = RandomUnderSampler(sampling_strategy=0.5)\n",
    "steps = [('o', over), ('u', under)]\n",
    "pipeline = Pipeline(steps=steps)\n",
    "# transform the dataset\n",
    "new_X, new_Y = pipeline.fit_resample(wX, Y)"
   ]
  },
  {
   "cell_type": "code",
   "execution_count": 38,
   "id": "4158e734",
   "metadata": {},
   "outputs": [
    {
     "name": "stdout",
     "output_type": "stream",
     "text": [
      "(2832, 900, 6, 1) (2832,)\n"
     ]
    }
   ],
   "source": [
    "new_X = new_X.reshape((-1, 900, 6, 1))\n",
    "print(new_X.shape,new_Y.shape)"
   ]
  },
  {
   "cell_type": "code",
   "execution_count": 39,
   "id": "b6bd472c",
   "metadata": {},
   "outputs": [
    {
     "data": {
      "text/plain": [
       "Counter({0: 944, 1: 1888})"
      ]
     },
     "execution_count": 39,
     "metadata": {},
     "output_type": "execute_result"
    }
   ],
   "source": [
    "from collections import Counter\n",
    "cnt =  Counter(new_Y)\n",
    "cnt"
   ]
  },
  {
   "cell_type": "code",
   "execution_count": 40,
   "id": "682ec29b",
   "metadata": {},
   "outputs": [],
   "source": [
    "from sklearn.model_selection import train_test_split\n",
    "new_X_train, new_X_test, new_y_train, new_y_test = train_test_split(new_X, new_Y, test_size=0.2, random_state=32)\n",
    "new_y_train_cat = keras.utils.to_categorical(new_y_train)\n",
    "new_y_test_cat = keras.utils.to_categorical(new_y_test)"
   ]
  },
  {
   "cell_type": "code",
   "execution_count": 41,
   "id": "419a7dd4",
   "metadata": {},
   "outputs": [
    {
     "name": "stdout",
     "output_type": "stream",
     "text": [
      "Model: \"sequential_7\"\n",
      "_________________________________________________________________\n",
      " Layer (type)                Output Shape              Param #   \n",
      "=================================================================\n",
      " conv2d_6 (Conv2D)           (None, 171, 1, 7)         2107      \n",
      "                                                                 \n",
      " flatten_6 (Flatten)         (None, 1197)              0         \n",
      "                                                                 \n",
      " dense_9 (Dense)             (None, 2)                 2396      \n",
      "                                                                 \n",
      "=================================================================\n",
      "Total params: 4,503\n",
      "Trainable params: 4,503\n",
      "Non-trainable params: 0\n",
      "_________________________________________________________________\n"
     ]
    }
   ],
   "source": [
    "from tensorflow.keras.models import Sequential\n",
    "from tensorflow.keras.layers import Dense, Conv2D, Flatten\n",
    "model = Sequential()\n",
    "# 100%\n",
    "# model.add(Conv2D(20, kernel_size=(50,6), activation='relu', input_shape=(900,6,1),strides=5)) \n",
    "model.add(Conv2D(7, kernel_size=(50,6), activation='relu', input_shape=(900,6,1),strides=5))\n",
    "model.add(Flatten())\n",
    "model.add(Dense(2, activation='softmax'))\n",
    "adam = tf.keras.optimizers.Adam(learning_rate=0.001,)\n",
    "model.compile(optimizer=adam, loss='categorical_crossentropy', metrics=['accuracy'])\n",
    "model.summary()"
   ]
  },
  {
   "cell_type": "code",
   "execution_count": 42,
   "id": "275bce21",
   "metadata": {},
   "outputs": [
    {
     "name": "stdout",
     "output_type": "stream",
     "text": [
      "Epoch 1/20\n",
      "14/14 [==============================] - 1s 30ms/step - loss: 0.1620 - accuracy: 0.9523 - val_loss: 0.0234 - val_accuracy: 1.0000\n",
      "Epoch 2/20\n",
      "14/14 [==============================] - 0s 25ms/step - loss: 0.0105 - accuracy: 0.9994 - val_loss: 0.0075 - val_accuracy: 1.0000\n",
      "Epoch 3/20\n",
      "14/14 [==============================] - 0s 25ms/step - loss: 0.0038 - accuracy: 1.0000 - val_loss: 0.0041 - val_accuracy: 1.0000\n",
      "Epoch 4/20\n",
      "14/14 [==============================] - 0s 24ms/step - loss: 0.0024 - accuracy: 1.0000 - val_loss: 0.0029 - val_accuracy: 1.0000\n",
      "Epoch 5/20\n",
      "14/14 [==============================] - 0s 24ms/step - loss: 0.0017 - accuracy: 1.0000 - val_loss: 0.0024 - val_accuracy: 1.0000\n",
      "Epoch 6/20\n",
      "14/14 [==============================] - 0s 25ms/step - loss: 0.0014 - accuracy: 1.0000 - val_loss: 0.0019 - val_accuracy: 1.0000\n",
      "Epoch 7/20\n",
      "14/14 [==============================] - 0s 23ms/step - loss: 0.0011 - accuracy: 1.0000 - val_loss: 0.0015 - val_accuracy: 1.0000\n",
      "Epoch 8/20\n",
      "14/14 [==============================] - 0s 25ms/step - loss: 8.7310e-04 - accuracy: 1.0000 - val_loss: 0.0013 - val_accuracy: 1.0000\n",
      "Epoch 9/20\n",
      "14/14 [==============================] - 0s 25ms/step - loss: 7.2420e-04 - accuracy: 1.0000 - val_loss: 0.0011 - val_accuracy: 1.0000\n",
      "Epoch 10/20\n",
      "14/14 [==============================] - 0s 24ms/step - loss: 6.3709e-04 - accuracy: 1.0000 - val_loss: 8.8270e-04 - val_accuracy: 1.0000\n",
      "Epoch 11/20\n",
      "14/14 [==============================] - 0s 24ms/step - loss: 5.2940e-04 - accuracy: 1.0000 - val_loss: 7.9411e-04 - val_accuracy: 1.0000\n",
      "Epoch 12/20\n",
      "14/14 [==============================] - 0s 25ms/step - loss: 4.5427e-04 - accuracy: 1.0000 - val_loss: 7.1379e-04 - val_accuracy: 1.0000\n",
      "Epoch 13/20\n",
      "14/14 [==============================] - 0s 24ms/step - loss: 3.9986e-04 - accuracy: 1.0000 - val_loss: 6.2443e-04 - val_accuracy: 1.0000\n",
      "Epoch 14/20\n",
      "14/14 [==============================] - 0s 25ms/step - loss: 3.5598e-04 - accuracy: 1.0000 - val_loss: 5.5647e-04 - val_accuracy: 1.0000\n",
      "Epoch 15/20\n",
      "14/14 [==============================] - 0s 25ms/step - loss: 3.2104e-04 - accuracy: 1.0000 - val_loss: 5.0109e-04 - val_accuracy: 1.0000\n",
      "Epoch 16/20\n",
      "14/14 [==============================] - 0s 25ms/step - loss: 2.8887e-04 - accuracy: 1.0000 - val_loss: 4.6499e-04 - val_accuracy: 1.0000\n",
      "Epoch 17/20\n",
      "14/14 [==============================] - 0s 24ms/step - loss: 2.6042e-04 - accuracy: 1.0000 - val_loss: 4.0622e-04 - val_accuracy: 1.0000\n",
      "Epoch 18/20\n",
      "14/14 [==============================] - 0s 27ms/step - loss: 2.3555e-04 - accuracy: 1.0000 - val_loss: 3.7065e-04 - val_accuracy: 1.0000\n",
      "Epoch 19/20\n",
      "14/14 [==============================] - 0s 27ms/step - loss: 2.1635e-04 - accuracy: 1.0000 - val_loss: 3.4764e-04 - val_accuracy: 1.0000\n",
      "Epoch 20/20\n",
      "14/14 [==============================] - 0s 26ms/step - loss: 1.9955e-04 - accuracy: 1.0000 - val_loss: 3.2704e-04 - val_accuracy: 1.0000\n",
      "5/5 [==============================] - 0s 6ms/step - loss: 3.3029e-04 - accuracy: 1.0000\n"
     ]
    }
   ],
   "source": [
    "model.fit(new_X_train, new_y_train_cat, validation_split=0.25, epochs=20,batch_size=128)\n",
    "results = model.evaluate(new_X_test, new_y_test_cat, batch_size=128)"
   ]
  },
  {
   "cell_type": "code",
   "execution_count": 46,
   "id": "999a2ecc",
   "metadata": {},
   "outputs": [
    {
     "name": "stdout",
     "output_type": "stream",
     "text": [
      "Confusion matrix:\n",
      " [[  24    0]\n",
      " [   0 9446]]\n",
      "Accuracy:100.0%\n",
      "Sensitivity:100.0%\n",
      "Specificity:100.0%\n"
     ]
    }
   ],
   "source": [
    "from sklearn.metrics import confusion_matrix\n",
    "X_train, X_test, y_train, y_test = train_test_split(X, Y, test_size=0.2, random_state=3372)\n",
    "#print(X_test.shape)\n",
    "predictions = model.predict(X, batch_size=128, verbose=0)\n",
    "classes_x=(np.argmax(predictions,axis=1))\n",
    "#print(predictions)\n",
    "true_classes = Y\n",
    "\n",
    "# y_test_flat = np.argmax(y_test, axis=-1)\n",
    "c = confusion_matrix(Y, classes_x)\n",
    "print('Confusion matrix:\\n', c)\n",
    "# print('Accuracy', )\n",
    "print('Accuracy:{}%'.format((c[0, 0] + c[1, 1]) * 100 / (c[0, 1] + c[0, 0] + c[1, 1] + c[1, 0])))\n",
    "print('Sensitivity:{}%'.format(c[0, 0]*100 / (c[0, 1] + c[0, 0])))\n",
    "print('Specificity:{}%'.format(c[1, 1]*100 / (c[1, 1] + c[1, 0])))\n",
    "# print('sensitivity', c[0, 0] / (c[0, 1] + c[0, 0]))\n",
    "# print('specificity', c[1, 1] / (c[1, 1] + c[1, 0]))"
   ]
  },
  {
   "cell_type": "code",
   "execution_count": null,
   "id": "4e8de1c9",
   "metadata": {},
   "outputs": [],
   "source": []
  },
  {
   "cell_type": "code",
   "execution_count": null,
   "id": "894050bd",
   "metadata": {},
   "outputs": [],
   "source": []
  }
 ],
 "metadata": {
  "kernelspec": {
   "display_name": "Python 3 (ipykernel)",
   "language": "python",
   "name": "python3"
  },
  "language_info": {
   "codemirror_mode": {
    "name": "ipython",
    "version": 3
   },
   "file_extension": ".py",
   "mimetype": "text/x-python",
   "name": "python",
   "nbconvert_exporter": "python",
   "pygments_lexer": "ipython3",
   "version": "3.10.6"
  }
 },
 "nbformat": 4,
 "nbformat_minor": 5
}
