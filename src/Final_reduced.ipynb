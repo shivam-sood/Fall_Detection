{
 "cells": [
  {
   "cell_type": "code",
   "execution_count": 1,
   "id": "1fea095d",
   "metadata": {},
   "outputs": [],
   "source": [
    "import os\n",
    "import os.path\n",
    "import tensorflow as tf\n",
    "from tensorflow import keras\n",
    "import pandas as pd\n",
    "import numpy as np\n",
    "t = 125\n",
    "thres = 4.5\n"
   ]
  },
  {
   "cell_type": "code",
   "execution_count": 2,
   "id": "12307efe",
   "metadata": {},
   "outputs": [
    {
     "name": "stdout",
     "output_type": "stream",
     "text": [
      "Fall: TESTING_ML_v10.txt\n",
      "Fall: TESTING_ML_v15.txt\n",
      "Fall: TESTING_ML_v16.txt\n",
      "Fall: TESTING_ML_v19.txt\n",
      "Fall: TESTING_ML_v20.txt\n",
      "Fall: TESTING_ML_v21.txt\n",
      "Fall: TESTING_ML_v22.txt\n",
      "797 TESTING_ML_v22.txt\n",
      "Fall: TESTING_ML_v23.txt\n",
      "Fall: TESTING_ML_v25.txt\n",
      "Fall: TESTING_ML_v28.txt\n",
      "Fall: TESTING_ML_v29.txt\n",
      "Fall: TESTING_ML_v30.txt\n",
      "Fall: TESTING_ML_v40.txt\n",
      "Fall: TESTING_ML_v49.txt\n",
      "Fall: TESTING_ML_v50.txt\n",
      "Fall: TESTING_ML_v51.txt\n",
      "Fall: TESTING_ML_v52.txt\n",
      "Fall: TESTING_ML_v53.txt\n",
      "Fall: TESTING_ML_v54.txt\n",
      "Fall: TESTING_ML_v55.txt\n",
      "Fall: TESTING_ML_v56.txt\n",
      "Fall: TESTING_ML_v57.txt\n",
      "Fall: TESTING_ML_v58.txt\n",
      "Fall: TESTING_ML_v59.txt\n",
      "Fall: TESTING_ML_v8.txt\n",
      "Fall: TESTING_ML_v9.txt\n",
      "Same floor Fall: TESTING_ML_BB_v100.txt\n",
      "Same floor Fall: TESTING_ML_BB_v101.txt\n",
      "Same floor Fall: TESTING_ML_BB_v69.txt\n",
      "Same floor Fall: TESTING_ML_BB_v70.txt\n",
      "Same floor Fall: TESTING_ML_BB_v71.txt\n",
      "Same floor Fall: TESTING_ML_BB_v72.txt\n",
      "Same floor Fall: TESTING_ML_BB_v73.txt\n",
      "Same floor Fall: TESTING_ML_BB_v74.txt\n",
      "Same floor Fall: TESTING_ML_BB_v75.txt\n",
      "Same floor Fall: TESTING_ML_BB_v76.txt\n",
      "Same floor Fall: TESTING_ML_BB_v77.txt\n",
      "Same floor Fall: TESTING_ML_BB_v78.txt\n",
      "Same floor Fall: TESTING_ML_BB_v82.txt\n",
      "Same floor Fall: TESTING_ML_BB_v83.txt\n",
      "TESTING_ML_BB_v84.txt -59 191 1.5242047106606122\n",
      "Same floor Fall: TESTING_ML_BB_v87.txt\n",
      "Same floor Fall: TESTING_ML_BB_v88.txt\n",
      "Same floor Fall: TESTING_ML_BB_v89.txt\n",
      "Same floor Fall: TESTING_ML_BB_v90.txt\n",
      "Same floor Fall: TESTING_ML_BB_v91.txt\n",
      "Same floor Fall: TESTING_ML_BB_v92.txt\n",
      "Same floor Fall: TESTING_ML_BB_v93.txt\n",
      "Same floor Fall: TESTING_ML_BB_v94.txt\n",
      "Same floor Fall: TESTING_ML_BB_v95.txt\n",
      "Same floor Fall: TESTING_ML_BB_v96.txt\n",
      "Same floor Fall: TESTING_ML_BB_v97.txt\n",
      "Same floor Fall: TESTING_ML_BB_v98.txt\n",
      "Same floor Fall: TESTING_ML_BB_v99.txt\n",
      "81\n"
     ]
    }
   ],
   "source": [
    "x = []\n",
    "y = []\n",
    "file_cnt = 0\n",
    "for dirpath, dirnames, filenames in os.walk(\"../Fall Data (New)/\"):\n",
    "    for filename in [f for f in filenames if f.endswith(\".txt\")]:\n",
    "        df = pd.read_csv(os.path.join(dirpath, filename),header=None)\n",
    "        fall_time = df[df[1].isna()]\n",
    "        df = df[df[1].notna()]\n",
    "        ax = np.array(df[1])\n",
    "        ay = np.array(df[2])\n",
    "        az = np.array(df[3])\n",
    "        gx = np.array(df[4])\n",
    "        gy = np.array(df[5])\n",
    "        gz = np.array(df[6])\n",
    "        time = np.array(df[0])\n",
    "        a = np.sqrt(ax**2 + ay**2 + az**2)\n",
    "        if filename[0] == \"A\":\n",
    "            # ADL file\n",
    "            file_cnt += 1\n",
    "            for i in range(a.shape[0]):\n",
    "                if a[i] >= thres:\n",
    "                    st = i - t\n",
    "                    ed =  i + t\n",
    "                    if st < 0 or ed >= a.shape[0]:\n",
    "                        continue\n",
    "\n",
    "                    tmp = np.array(list(zip(ax[st:ed],ay[st:ed],az[st:ed],gx[st:ed],gy[st:ed],gz[st:ed])))\n",
    "\n",
    "\n",
    "                    x.append(tmp)\n",
    "                    y.append(1)\n",
    "                    \n",
    "        elif filename[11] == \"B\":\n",
    "            i = np.argmax(a)\n",
    "            st = i - t\n",
    "            ed =  i + t\n",
    "            if st < 0 or ed >= a.shape[0] or a[i] < thres:\n",
    "                print(filename,st,ed,a[i])\n",
    "                continue\n",
    "            file_cnt += 1\n",
    "            tmp = np.array(list(zip(ax[st:ed],ay[st:ed],az[st:ed],gx[st:ed],gy[st:ed],gz[st:ed])))\n",
    "            x.append(tmp)\n",
    "            y.append(2)\n",
    "            print(\"Same floor Fall:\",filename)\n",
    "            continue\n",
    "\n",
    "        else:\n",
    "            # Fall Data\n",
    "            i = np.argmax(a)\n",
    "            st = i - t\n",
    "            ed =  i + t\n",
    "            if st < 0 or ed >= a.shape[0] or a[i] < thres:\n",
    "                print(filename,st,ed,a[i])\n",
    "                continue\n",
    "            file_cnt += 1\n",
    "            print(\"Fall:\",filename)\n",
    "            tmp = np.array(list(zip(ax[st:ed],ay[st:ed],az[st:ed],gx[st:ed],gy[st:ed],gz[st:ed])))\n",
    "            x.append(tmp)\n",
    "            if len(y) == 1157:\n",
    "                print(i,filename)\n",
    "            y.append(0)\n",
    "            \n",
    "print(file_cnt)"
   ]
  },
  {
   "cell_type": "code",
   "execution_count": 3,
   "id": "84ddfedd",
   "metadata": {},
   "outputs": [
    {
     "data": {
      "text/plain": [
       "Counter({1: 1151, 0: 26, 2: 27})"
      ]
     },
     "execution_count": 3,
     "metadata": {},
     "output_type": "execute_result"
    }
   ],
   "source": [
    "from collections import Counter\n",
    "cnt =  Counter(y)\n",
    "cnt"
   ]
  },
  {
   "cell_type": "code",
   "execution_count": 4,
   "id": "1be97f64",
   "metadata": {},
   "outputs": [
    {
     "name": "stdout",
     "output_type": "stream",
     "text": [
      "(1204, 250, 6, 1) (1204,)\n"
     ]
    }
   ],
   "source": [
    "X = np.array(x)\n",
    "Y = np.array(y)\n",
    "X = X.reshape(-1,t*2,6,1)\n",
    "print(X.shape,Y.shape)\n"
   ]
  },
  {
   "cell_type": "code",
   "execution_count": 5,
   "id": "1927d6a5",
   "metadata": {},
   "outputs": [
    {
     "name": "stdout",
     "output_type": "stream",
     "text": [
      "(963, 250, 6, 1) (1204,) (963, 1500)\n"
     ]
    }
   ],
   "source": [
    "from sklearn.model_selection import train_test_split\n",
    "X_train, X_test, y_train, y_test = train_test_split(X, Y, test_size=0.2, random_state=32)\n",
    "\n",
    "orig_shape = X_train.shape\n",
    "\n",
    "wX = X_train.reshape(-1,t*12)\n",
    "print(X_train.shape,Y.shape,wX.shape)"
   ]
  },
  {
   "cell_type": "code",
   "execution_count": 6,
   "id": "b74b765c",
   "metadata": {},
   "outputs": [],
   "source": [
    "from imblearn.over_sampling import SMOTE\n",
    "from imblearn.under_sampling import RandomUnderSampler\n",
    "from imblearn.pipeline import Pipeline\n",
    "over = SMOTE(sampling_strategy='not majority')\n",
    "steps = [('o', over)]\n",
    "pipeline = Pipeline(steps=steps)\n",
    "# transform the dataset\n",
    "new_train_X, new_train_Y = pipeline.fit_resample(wX, y_train)"
   ]
  },
  {
   "cell_type": "code",
   "execution_count": 7,
   "id": "4158e734",
   "metadata": {},
   "outputs": [
    {
     "name": "stdout",
     "output_type": "stream",
     "text": [
      "(2763, 250, 6, 1) (2763,)\n"
     ]
    }
   ],
   "source": [
    "new_train_X = new_train_X.reshape((-1, t*2, 6, 1))\n",
    "print(new_train_X.shape,new_train_Y.shape)"
   ]
  },
  {
   "cell_type": "code",
   "execution_count": 8,
   "id": "50895edc",
   "metadata": {},
   "outputs": [],
   "source": [
    "y_train_cat = keras.utils.to_categorical(new_train_Y)\n",
    "y_test_cat = keras.utils.to_categorical(y_test)"
   ]
  },
  {
   "cell_type": "code",
   "execution_count": 9,
   "id": "b6bd472c",
   "metadata": {},
   "outputs": [
    {
     "data": {
      "text/plain": [
       "Counter({1: 921, 0: 921, 2: 921})"
      ]
     },
     "execution_count": 9,
     "metadata": {},
     "output_type": "execute_result"
    }
   ],
   "source": [
    "from collections import Counter\n",
    "cnt =  Counter(new_train_Y)\n",
    "cnt"
   ]
  },
  {
   "cell_type": "code",
   "execution_count": 10,
   "id": "419a7dd4",
   "metadata": {},
   "outputs": [
    {
     "name": "stdout",
     "output_type": "stream",
     "text": [
      "Model: \"sequential\"\n",
      "_________________________________________________________________\n",
      " Layer (type)                Output Shape              Param #   \n",
      "=================================================================\n",
      " conv2d (Conv2D)             (None, 25, 1, 7)          427       \n",
      "                                                                 \n",
      " flatten (Flatten)           (None, 175)               0         \n",
      "                                                                 \n",
      " dense (Dense)               (None, 3)                 528       \n",
      "                                                                 \n",
      "=================================================================\n",
      "Total params: 955\n",
      "Trainable params: 955\n",
      "Non-trainable params: 0\n",
      "_________________________________________________________________\n"
     ]
    }
   ],
   "source": [
    "from tensorflow.keras.models import Sequential\n",
    "from tensorflow.keras.layers import Dense, Conv2D, Flatten\n",
    "model = Sequential()\n",
    "\n",
    "model.add(Conv2D(7, kernel_size=(10,6), activation='relu', input_shape=(t*2,6,1),strides=10))\n",
    "model.add(Flatten())\n",
    "model.add(Dense(3, activation='softmax'))\n",
    "adam = tf.keras.optimizers.Adam(learning_rate=0.001,)\n",
    "model.compile(optimizer=adam, loss='categorical_crossentropy', metrics=['accuracy'])\n",
    "model.summary()"
   ]
  },
  {
   "cell_type": "code",
   "execution_count": 11,
   "id": "649bc1e2",
   "metadata": {},
   "outputs": [
    {
     "name": "stdout",
     "output_type": "stream",
     "text": [
      "Epoch 1/20\n",
      "22/22 [==============================] - 1s 11ms/step - loss: 0.8270 - accuracy: 0.6301 - val_loss: 0.5742 - val_accuracy: 0.8299\n",
      "Epoch 2/20\n",
      "22/22 [==============================] - 0s 5ms/step - loss: 0.4255 - accuracy: 0.9135 - val_loss: 0.2199 - val_accuracy: 0.9876\n",
      "Epoch 3/20\n",
      "22/22 [==============================] - 0s 6ms/step - loss: 0.2116 - accuracy: 0.9801 - val_loss: 0.1052 - val_accuracy: 0.9876\n",
      "Epoch 4/20\n",
      "22/22 [==============================] - 0s 5ms/step - loss: 0.1110 - accuracy: 0.9946 - val_loss: 0.0679 - val_accuracy: 0.9917\n",
      "Epoch 5/20\n",
      "22/22 [==============================] - 0s 5ms/step - loss: 0.0661 - accuracy: 0.9975 - val_loss: 0.0559 - val_accuracy: 0.9917\n",
      "Epoch 6/20\n",
      "22/22 [==============================] - 0s 5ms/step - loss: 0.0433 - accuracy: 0.9971 - val_loss: 0.0496 - val_accuracy: 0.9917\n",
      "Epoch 7/20\n",
      "22/22 [==============================] - 0s 6ms/step - loss: 0.0305 - accuracy: 0.9978 - val_loss: 0.0428 - val_accuracy: 0.9959\n",
      "Epoch 8/20\n",
      "22/22 [==============================] - 0s 6ms/step - loss: 0.0212 - accuracy: 0.9986 - val_loss: 0.0395 - val_accuracy: 0.9959\n",
      "Epoch 9/20\n",
      "22/22 [==============================] - 0s 5ms/step - loss: 0.0161 - accuracy: 0.9996 - val_loss: 0.0399 - val_accuracy: 0.9959\n",
      "Epoch 10/20\n",
      "22/22 [==============================] - 0s 6ms/step - loss: 0.0127 - accuracy: 1.0000 - val_loss: 0.0374 - val_accuracy: 0.9959\n",
      "Epoch 11/20\n",
      "22/22 [==============================] - 0s 7ms/step - loss: 0.0104 - accuracy: 1.0000 - val_loss: 0.0370 - val_accuracy: 0.9959\n",
      "Epoch 12/20\n",
      "22/22 [==============================] - 0s 5ms/step - loss: 0.0087 - accuracy: 1.0000 - val_loss: 0.0363 - val_accuracy: 0.9959\n",
      "Epoch 13/20\n",
      "22/22 [==============================] - 0s 5ms/step - loss: 0.0073 - accuracy: 1.0000 - val_loss: 0.0358 - val_accuracy: 0.9959\n",
      "Epoch 14/20\n",
      "22/22 [==============================] - 0s 5ms/step - loss: 0.0063 - accuracy: 1.0000 - val_loss: 0.0358 - val_accuracy: 0.9959\n",
      "Epoch 15/20\n",
      "22/22 [==============================] - 0s 5ms/step - loss: 0.0055 - accuracy: 1.0000 - val_loss: 0.0369 - val_accuracy: 0.9959\n",
      "Epoch 16/20\n",
      "22/22 [==============================] - 0s 5ms/step - loss: 0.0048 - accuracy: 1.0000 - val_loss: 0.0360 - val_accuracy: 0.9959\n",
      "Epoch 17/20\n",
      "22/22 [==============================] - 0s 6ms/step - loss: 0.0043 - accuracy: 1.0000 - val_loss: 0.0364 - val_accuracy: 0.9959\n",
      "Epoch 18/20\n",
      "22/22 [==============================] - 0s 5ms/step - loss: 0.0038 - accuracy: 1.0000 - val_loss: 0.0354 - val_accuracy: 0.9959\n",
      "Epoch 19/20\n",
      "22/22 [==============================] - 0s 5ms/step - loss: 0.0034 - accuracy: 1.0000 - val_loss: 0.0352 - val_accuracy: 0.9959\n",
      "Epoch 20/20\n",
      "22/22 [==============================] - 0s 5ms/step - loss: 0.0031 - accuracy: 1.0000 - val_loss: 0.0361 - val_accuracy: 0.9959\n"
     ]
    },
    {
     "data": {
      "text/plain": [
       "<keras.callbacks.History at 0x16c071f5e10>"
      ]
     },
     "execution_count": 11,
     "metadata": {},
     "output_type": "execute_result"
    }
   ],
   "source": [
    "model.fit(new_train_X, y_train_cat, validation_data=(X_test,y_test_cat), epochs=20,batch_size=128)\n"
   ]
  },
  {
   "cell_type": "code",
   "execution_count": 12,
   "id": "30185154",
   "metadata": {},
   "outputs": [
    {
     "name": "stdout",
     "output_type": "stream",
     "text": [
      "2/2 [==============================] - 0s 3ms/step - loss: 0.0361 - accuracy: 0.9959\n",
      "241\n"
     ]
    }
   ],
   "source": [
    "results = model.evaluate(X_test, y_test_cat, batch_size=128)\n",
    "print(X_test.shape[0])"
   ]
  },
  {
   "cell_type": "code",
   "execution_count": 13,
   "id": "999a2ecc",
   "metadata": {},
   "outputs": [
    {
     "name": "stdout",
     "output_type": "stream",
     "text": [
      "Confusion matrix:\n",
      " [[  25    1    0]\n",
      " [   0 1151    0]\n",
      " [   0    0   27]]\n",
      "Accuracy:99.91503823279524%\n",
      "Sensitivity:96.15384615384616%\n",
      "Specificity:100.0%\n"
     ]
    }
   ],
   "source": [
    "from sklearn.metrics import confusion_matrix\n",
    "\n",
    "predictions = model.predict(X, batch_size=128, verbose=0)\n",
    "classes_x=(np.argmax(predictions,axis=1))\n",
    "true_classes = Y\n",
    "\n",
    "c = confusion_matrix(Y, classes_x)\n",
    "print('Confusion matrix:\\n', c)\n",
    "print('Accuracy:{}%'.format((c[0, 0] + c[1, 1]) * 100 / (c[0, 1] + c[0, 0] + c[1, 1] + c[1, 0])))\n",
    "print('Sensitivity:{}%'.format(c[0, 0]*100 / (c[0, 1] + c[0, 0])))\n",
    "print('Specificity:{}%'.format(c[1, 1]*100 / (c[1, 1] + c[1, 0])))\n"
   ]
  },
  {
   "cell_type": "code",
   "execution_count": 17,
   "id": "4e8de1c9",
   "metadata": {},
   "outputs": [
    {
     "name": "stderr",
     "output_type": "stream",
     "text": [
      "WARNING:absl:Found untraced functions such as _jit_compiled_convolution_op while saving (showing 1 of 1). These functions will not be directly callable after loading.\n"
     ]
    },
    {
     "name": "stdout",
     "output_type": "stream",
     "text": [
      "INFO:tensorflow:Assets written to: C:\\Users\\soods\\AppData\\Local\\Temp\\tmptz4kfgjw\\assets\n"
     ]
    },
    {
     "name": "stderr",
     "output_type": "stream",
     "text": [
      "INFO:tensorflow:Assets written to: C:\\Users\\soods\\AppData\\Local\\Temp\\tmptz4kfgjw\\assets\n",
      "WARNING:absl:Found untraced functions such as _jit_compiled_convolution_op while saving (showing 1 of 1). These functions will not be directly callable after loading.\n"
     ]
    },
    {
     "name": "stdout",
     "output_type": "stream",
     "text": [
      "INFO:tensorflow:Assets written to: ../model\\assets\n"
     ]
    },
    {
     "name": "stderr",
     "output_type": "stream",
     "text": [
      "INFO:tensorflow:Assets written to: ../model\\assets\n"
     ]
    }
   ],
   "source": [
    "converter = tf.lite.TFLiteConverter.from_keras_model(model)\n",
    "converter.optimizations = [tf.lite.Optimize.DEFAULT]\n",
    "\n",
    "tflite_model = converter.convert()\n",
    "\n",
    "\n",
    "# Save the model to disk\n",
    "open('../model/model.tflite', \"wb\").write(tflite_model)\n",
    "model.save('../model')\n",
    "# !xxd -i converted_model.tflite > model_data.cc"
   ]
  },
  {
   "cell_type": "code",
   "execution_count": 18,
   "id": "894050bd",
   "metadata": {},
   "outputs": [
    {
     "name": "stderr",
     "output_type": "stream",
     "text": [
      "WARNING:absl:Found untraced functions such as _jit_compiled_convolution_op while saving (showing 1 of 1). These functions will not be directly callable after loading.\n"
     ]
    },
    {
     "name": "stdout",
     "output_type": "stream",
     "text": [
      "INFO:tensorflow:Assets written to: C:\\Users\\soods\\AppData\\Local\\Temp\\tmp785916k9\\assets\n"
     ]
    },
    {
     "name": "stderr",
     "output_type": "stream",
     "text": [
      "INFO:tensorflow:Assets written to: C:\\Users\\soods\\AppData\\Local\\Temp\\tmp785916k9\\assets\n"
     ]
    },
    {
     "data": {
      "text/plain": [
       "35462"
      ]
     },
     "execution_count": 18,
     "metadata": {},
     "output_type": "execute_result"
    }
   ],
   "source": [
    "from tinymlgen import port\n",
    "open('../model/model.h', \"w\").write((port(model, optimize=False)))/1024"
   ]
  },
  {
   "cell_type": "code",
   "execution_count": null,
   "id": "457af449",
   "metadata": {},
   "outputs": [],
   "source": []
  }
 ],
 "metadata": {
  "kernelspec": {
   "display_name": "Python 3.10.6 64-bit (windows store)",
   "language": "python",
   "name": "python3"
  },
  "language_info": {
   "codemirror_mode": {
    "name": "ipython",
    "version": 3
   },
   "file_extension": ".py",
   "mimetype": "text/x-python",
   "name": "python",
   "nbconvert_exporter": "python",
   "pygments_lexer": "ipython3",
   "version": "3.10.6"
  },
  "vscode": {
   "interpreter": {
    "hash": "5609a82b186107e1566a25a9d90b091b01011b4496a5dba96eac49f7f2fc4c42"
   }
  }
 },
 "nbformat": 4,
 "nbformat_minor": 5
}
