{
 "cells": [
  {
   "cell_type": "code",
   "execution_count": 85,
   "id": "1fea095d",
   "metadata": {},
   "outputs": [],
   "source": [
    "import os\n",
    "import os.path\n",
    "import tensorflow as tf\n",
    "from tensorflow import keras\n",
    "import pandas as pd\n",
    "import numpy as np\n",
    "t = 450\n",
    "thres = 4.5\n"
   ]
  },
  {
   "cell_type": "code",
   "execution_count": 86,
   "id": "12307efe",
   "metadata": {},
   "outputs": [
    {
     "name": "stdout",
     "output_type": "stream",
     "text": [
      "TESTING_ML_v10.txt -102 798 12.53990430585497\n",
      "Fall: TESTING_ML_v15.txt\n",
      "Fall: TESTING_ML_v16.txt\n",
      "Fall: TESTING_ML_v19.txt\n",
      "TESTING_ML_v20.txt -78 822 4.7132685049761385\n",
      "Fall: TESTING_ML_v21.txt\n",
      "Fall: TESTING_ML_v22.txt\n",
      "Fall: TESTING_ML_v23.txt\n",
      "Fall: TESTING_ML_v25.txt\n",
      "Fall: TESTING_ML_v28.txt\n",
      "Fall: TESTING_ML_v29.txt\n",
      "Fall: TESTING_ML_v30.txt\n",
      "Fall: TESTING_ML_v40.txt\n",
      "Fall: TESTING_ML_v49.txt\n",
      "Fall: TESTING_ML_v50.txt\n",
      "Fall: TESTING_ML_v51.txt\n",
      "Fall: TESTING_ML_v52.txt\n",
      "Fall: TESTING_ML_v53.txt\n",
      "Fall: TESTING_ML_v54.txt\n",
      "Fall: TESTING_ML_v55.txt\n",
      "Fall: TESTING_ML_v56.txt\n",
      "Fall: TESTING_ML_v57.txt\n",
      "Fall: TESTING_ML_v58.txt\n",
      "Fall: TESTING_ML_v59.txt\n",
      "Fall: TESTING_ML_v8.txt\n",
      "Fall: TESTING_ML_v9.txt\n",
      "Same floor Fall: TESTING_ML_BB_v100.txt\n",
      "Same floor Fall: TESTING_ML_BB_v101.txt\n",
      "Same floor Fall: TESTING_ML_BB_v69.txt\n",
      "Same floor Fall: TESTING_ML_BB_v70.txt\n",
      "Same floor Fall: TESTING_ML_BB_v71.txt\n",
      "Same floor Fall: TESTING_ML_BB_v72.txt\n",
      "Same floor Fall: TESTING_ML_BB_v73.txt\n",
      "TESTING_ML_BB_v74.txt -20 880 17.711648709253467\n",
      "Same floor Fall: TESTING_ML_BB_v75.txt\n",
      "Same floor Fall: TESTING_ML_BB_v76.txt\n",
      "Same floor Fall: TESTING_ML_BB_v77.txt\n",
      "Same floor Fall: TESTING_ML_BB_v78.txt\n",
      "TESTING_ML_BB_v82.txt -15 885 12.112625644343177\n",
      "TESTING_ML_BB_v83.txt 16 916 12.494886954270536\n",
      "TESTING_ML_BB_v84.txt -384 516 1.5242047106606122\n",
      "Same floor Fall: TESTING_ML_BB_v87.txt\n",
      "Same floor Fall: TESTING_ML_BB_v88.txt\n",
      "Same floor Fall: TESTING_ML_BB_v89.txt\n",
      "Same floor Fall: TESTING_ML_BB_v90.txt\n",
      "Same floor Fall: TESTING_ML_BB_v91.txt\n",
      "Same floor Fall: TESTING_ML_BB_v92.txt\n",
      "Same floor Fall: TESTING_ML_BB_v93.txt\n",
      "TESTING_ML_BB_v94.txt -18 882 14.647467357874534\n",
      "Same floor Fall: TESTING_ML_BB_v95.txt\n",
      "Same floor Fall: TESTING_ML_BB_v96.txt\n",
      "Same floor Fall: TESTING_ML_BB_v97.txt\n",
      "Same floor Fall: TESTING_ML_BB_v98.txt\n",
      "Same floor Fall: TESTING_ML_BB_v99.txt\n",
      "74\n"
     ]
    }
   ],
   "source": [
    "x = []\n",
    "y = []\n",
    "file_cnt = 0\n",
    "for dirpath, dirnames, filenames in os.walk(\"../Fall Data (New)/\"):\n",
    "    for filename in [f for f in filenames if f.endswith(\".txt\")]:\n",
    "        df = pd.read_csv(os.path.join(dirpath, filename),header=None)\n",
    "        fall_time = df[df[1].isna()]\n",
    "        df = df[df[1].notna()]\n",
    "        ax = np.array(df[1])\n",
    "        ay = np.array(df[2])\n",
    "        az = np.array(df[3])\n",
    "        gx = np.array(df[4])\n",
    "        gy = np.array(df[5])\n",
    "        gz = np.array(df[6])\n",
    "        time = np.array(df[0])\n",
    "        a = np.sqrt(ax**2 + ay**2 + az**2)\n",
    "        if filename[0] == \"A\":\n",
    "            # ADL file\n",
    "            file_cnt += 1\n",
    "            for i in range(a.shape[0]):\n",
    "                if a[i] >= thres:\n",
    "                    st = i - t\n",
    "                    ed =  i + t\n",
    "                    if st < 0 or ed >= a.shape[0]:\n",
    "                        continue\n",
    "\n",
    "                    tmp = np.array(list(zip(ax[st:ed],ay[st:ed],az[st:ed],gx[st:ed],gy[st:ed],gz[st:ed])))\n",
    "\n",
    "\n",
    "                    x.append(tmp)\n",
    "                    y.append(1)\n",
    "                    \n",
    "        elif filename[11] == \"B\":\n",
    "            i = np.argmax(a)\n",
    "            st = i - t\n",
    "            ed =  i + t\n",
    "            if st < 0 or ed >= a.shape[0] or a[i] < thres:\n",
    "                print(filename,st,ed,a[i])\n",
    "                continue\n",
    "            file_cnt += 1\n",
    "            tmp = np.array(list(zip(ax[st:ed],ay[st:ed],az[st:ed],gx[st:ed],gy[st:ed],gz[st:ed])))\n",
    "            x.append(tmp)\n",
    "            y.append(2)\n",
    "            print(\"Same floor Fall:\",filename)\n",
    "            continue\n",
    "\n",
    "        else:\n",
    "            # Fall Data\n",
    "            i = np.argmax(a)\n",
    "            st = i - t\n",
    "            ed =  i + t\n",
    "            if st < 0 or ed >= a.shape[0] or a[i] < thres:\n",
    "                print(filename,st,ed,a[i])\n",
    "                continue\n",
    "            file_cnt += 1\n",
    "            print(\"Fall:\",filename)\n",
    "            tmp = np.array(list(zip(ax[st:ed],ay[st:ed],az[st:ed],gx[st:ed],gy[st:ed],gz[st:ed])))\n",
    "            x.append(tmp)\n",
    "            if len(y) == 1157:\n",
    "                print(i,filename)\n",
    "            y.append(0)\n",
    "            \n",
    "print(file_cnt)"
   ]
  },
  {
   "cell_type": "code",
   "execution_count": 87,
   "id": "84ddfedd",
   "metadata": {},
   "outputs": [
    {
     "data": {
      "text/plain": [
       "Counter({1: 966, 0: 24, 2: 23})"
      ]
     },
     "execution_count": 87,
     "metadata": {},
     "output_type": "execute_result"
    }
   ],
   "source": [
    "from collections import Counter\n",
    "cnt =  Counter(y)\n",
    "cnt"
   ]
  },
  {
   "cell_type": "code",
   "execution_count": 59,
   "id": "1be97f64",
   "metadata": {},
   "outputs": [
    {
     "name": "stdout",
     "output_type": "stream",
     "text": [
      "(1013, 900, 6, 1) (1013,)\n"
     ]
    }
   ],
   "source": [
    "X = np.array(x)\n",
    "Y = np.array(y)\n",
    "X = X.reshape(-1,t*2,6,1)\n",
    "print(X.shape,Y.shape)\n"
   ]
  },
  {
   "cell_type": "code",
   "execution_count": 61,
   "id": "1927d6a5",
   "metadata": {},
   "outputs": [
    {
     "name": "stdout",
     "output_type": "stream",
     "text": [
      "Counter({1: 195, 2: 5, 0: 3})\n",
      "(810, 900, 6, 1) (1013,) (810, 5400)\n"
     ]
    }
   ],
   "source": [
    "from sklearn.model_selection import train_test_split\n",
    "X_train, X_test, y_train, y_test = train_test_split(X, Y, test_size=0.2, random_state=32)\n",
    "from collections import Counter\n",
    "cnt =  Counter(y_test)\n",
    "print(cnt)\n",
    "orig_shape = X_train.shape\n",
    "\n",
    "wX = X_train.reshape(-1,t*12)\n",
    "print(X_train.shape,Y.shape,wX.shape)"
   ]
  },
  {
   "cell_type": "code",
   "execution_count": 62,
   "id": "b74b765c",
   "metadata": {},
   "outputs": [],
   "source": [
    "from imblearn.over_sampling import SMOTE\n",
    "from imblearn.under_sampling import RandomUnderSampler\n",
    "from imblearn.pipeline import Pipeline\n",
    "over = SMOTE(sampling_strategy='not majority')\n",
    "\n",
    "steps = [('o',over)]\n",
    "pipeline = Pipeline(steps=steps)\n",
    "# transform the dataset\n",
    "new_train_X, new_train_Y = pipeline.fit_resample(wX, y_train)"
   ]
  },
  {
   "cell_type": "code",
   "execution_count": 63,
   "id": "4158e734",
   "metadata": {},
   "outputs": [
    {
     "name": "stdout",
     "output_type": "stream",
     "text": [
      "(2313, 900, 6, 1) (2313,)\n"
     ]
    }
   ],
   "source": [
    "new_train_X = new_train_X.reshape((-1, t*2, 6, 1))\n",
    "print(new_train_X.shape,new_train_Y.shape)"
   ]
  },
  {
   "cell_type": "code",
   "execution_count": 64,
   "id": "50895edc",
   "metadata": {},
   "outputs": [],
   "source": [
    "y_train_cat = keras.utils.to_categorical(new_train_Y)\n",
    "y_test_cat = keras.utils.to_categorical(y_test)"
   ]
  },
  {
   "cell_type": "code",
   "execution_count": 65,
   "id": "b6bd472c",
   "metadata": {},
   "outputs": [
    {
     "data": {
      "text/plain": [
       "Counter({1: 771, 0: 771, 2: 771})"
      ]
     },
     "execution_count": 65,
     "metadata": {},
     "output_type": "execute_result"
    }
   ],
   "source": [
    "from collections import Counter\n",
    "cnt =  Counter(new_train_Y)\n",
    "cnt"
   ]
  },
  {
   "cell_type": "code",
   "execution_count": 66,
   "id": "419a7dd4",
   "metadata": {},
   "outputs": [
    {
     "name": "stdout",
     "output_type": "stream",
     "text": [
      "Model: \"sequential_2\"\n",
      "_________________________________________________________________\n",
      " Layer (type)                Output Shape              Param #   \n",
      "=================================================================\n",
      " conv2d_2 (Conv2D)           (None, 29, 1, 10)         1510      \n",
      "                                                                 \n",
      " flatten_2 (Flatten)         (None, 290)               0         \n",
      "                                                                 \n",
      " dense_2 (Dense)             (None, 3)                 873       \n",
      "                                                                 \n",
      "=================================================================\n",
      "Total params: 2,383\n",
      "Trainable params: 2,383\n",
      "Non-trainable params: 0\n",
      "_________________________________________________________________\n"
     ]
    }
   ],
   "source": [
    "from tensorflow.keras.models import Sequential\n",
    "from tensorflow.keras.layers import Dense, Conv2D, Flatten\n",
    "model = Sequential()\n",
    " \n",
    "model.add(Conv2D(10, kernel_size=(50,3), activation='relu', input_shape=(t*2,6,1),strides=30))\n",
    "\n",
    "model.add(Flatten())\n",
    "\n",
    "model.add(Dense(3, activation='softmax'))\n",
    "adam = tf.keras.optimizers.Adam(learning_rate=0.001,)\n",
    "model.compile(optimizer=adam, loss='categorical_crossentropy', metrics=['accuracy'])\n",
    "model.summary()"
   ]
  },
  {
   "cell_type": "code",
   "execution_count": 67,
   "id": "649bc1e2",
   "metadata": {},
   "outputs": [
    {
     "name": "stdout",
     "output_type": "stream",
     "text": [
      "Epoch 1/20\n",
      "19/19 [==============================] - 1s 21ms/step - loss: 0.6380 - accuracy: 0.7812 - val_loss: 0.1007 - val_accuracy: 0.9852\n",
      "Epoch 2/20\n",
      "19/19 [==============================] - 0s 10ms/step - loss: 0.2068 - accuracy: 0.9810 - val_loss: 0.0646 - val_accuracy: 0.9754\n",
      "Epoch 3/20\n",
      "19/19 [==============================] - 0s 10ms/step - loss: 0.0585 - accuracy: 0.9987 - val_loss: 0.0332 - val_accuracy: 0.9852\n",
      "Epoch 4/20\n",
      "19/19 [==============================] - 0s 9ms/step - loss: 0.0223 - accuracy: 0.9991 - val_loss: 0.0241 - val_accuracy: 0.9901\n",
      "Epoch 5/20\n",
      "19/19 [==============================] - 0s 9ms/step - loss: 0.0128 - accuracy: 0.9991 - val_loss: 0.0194 - val_accuracy: 0.9951\n",
      "Epoch 6/20\n",
      "19/19 [==============================] - 0s 10ms/step - loss: 0.0092 - accuracy: 0.9991 - val_loss: 0.0152 - val_accuracy: 0.9951\n",
      "Epoch 7/20\n",
      "19/19 [==============================] - 0s 11ms/step - loss: 0.0070 - accuracy: 0.9991 - val_loss: 0.0133 - val_accuracy: 0.9951\n",
      "Epoch 8/20\n",
      "19/19 [==============================] - 0s 12ms/step - loss: 0.0057 - accuracy: 0.9991 - val_loss: 0.0098 - val_accuracy: 0.9951\n",
      "Epoch 9/20\n",
      "19/19 [==============================] - 0s 14ms/step - loss: 0.0045 - accuracy: 0.9996 - val_loss: 0.0083 - val_accuracy: 1.0000\n",
      "Epoch 10/20\n",
      "19/19 [==============================] - 0s 10ms/step - loss: 0.0038 - accuracy: 0.9996 - val_loss: 0.0066 - val_accuracy: 1.0000\n",
      "Epoch 11/20\n",
      "19/19 [==============================] - 0s 9ms/step - loss: 0.0031 - accuracy: 1.0000 - val_loss: 0.0059 - val_accuracy: 1.0000\n",
      "Epoch 12/20\n",
      "19/19 [==============================] - 0s 9ms/step - loss: 0.0027 - accuracy: 1.0000 - val_loss: 0.0050 - val_accuracy: 1.0000\n",
      "Epoch 13/20\n",
      "19/19 [==============================] - 0s 9ms/step - loss: 0.0023 - accuracy: 1.0000 - val_loss: 0.0043 - val_accuracy: 1.0000\n",
      "Epoch 14/20\n",
      "19/19 [==============================] - 0s 9ms/step - loss: 0.0020 - accuracy: 1.0000 - val_loss: 0.0034 - val_accuracy: 1.0000\n",
      "Epoch 15/20\n",
      "19/19 [==============================] - 0s 10ms/step - loss: 0.0018 - accuracy: 1.0000 - val_loss: 0.0029 - val_accuracy: 1.0000\n",
      "Epoch 16/20\n",
      "19/19 [==============================] - 0s 10ms/step - loss: 0.0016 - accuracy: 1.0000 - val_loss: 0.0028 - val_accuracy: 1.0000\n",
      "Epoch 17/20\n",
      "19/19 [==============================] - 0s 9ms/step - loss: 0.0014 - accuracy: 1.0000 - val_loss: 0.0024 - val_accuracy: 1.0000\n",
      "Epoch 18/20\n",
      "19/19 [==============================] - 0s 10ms/step - loss: 0.0013 - accuracy: 1.0000 - val_loss: 0.0021 - val_accuracy: 1.0000\n",
      "Epoch 19/20\n",
      "19/19 [==============================] - 0s 10ms/step - loss: 0.0011 - accuracy: 1.0000 - val_loss: 0.0020 - val_accuracy: 1.0000\n",
      "Epoch 20/20\n",
      "19/19 [==============================] - 0s 9ms/step - loss: 0.0011 - accuracy: 1.0000 - val_loss: 0.0018 - val_accuracy: 1.0000\n"
     ]
    },
    {
     "data": {
      "text/plain": [
       "<keras.callbacks.History at 0x2312b544130>"
      ]
     },
     "execution_count": 67,
     "metadata": {},
     "output_type": "execute_result"
    }
   ],
   "source": [
    "model.fit(new_train_X, y_train_cat, validation_data=(X_test, y_test_cat), epochs=20,batch_size=128)\n"
   ]
  },
  {
   "cell_type": "code",
   "execution_count": 68,
   "id": "30185154",
   "metadata": {},
   "outputs": [
    {
     "name": "stdout",
     "output_type": "stream",
     "text": [
      "2/2 [==============================] - 0s 4ms/step - loss: 0.0018 - accuracy: 1.0000\n",
      "203\n"
     ]
    }
   ],
   "source": [
    "results = model.evaluate(X_test, y_test_cat, batch_size=128)\n",
    "print(X_test.shape[0])"
   ]
  },
  {
   "cell_type": "code",
   "execution_count": 69,
   "id": "999a2ecc",
   "metadata": {},
   "outputs": [
    {
     "name": "stdout",
     "output_type": "stream",
     "text": [
      "Confusion matrix:\n",
      " [[ 24   0   0]\n",
      " [  0 966   0]\n",
      " [  0   0  23]]\n",
      "Accuracy:100.0%\n",
      "Sensitivity:100.0%\n",
      "Specificity:100.0%\n"
     ]
    }
   ],
   "source": [
    "from sklearn.metrics import confusion_matrix\n",
    "\n",
    "predictions = model.predict(X, batch_size=128, verbose=0)\n",
    "classes_x=(np.argmax(predictions,axis=1))\n",
    "\n",
    "true_classes = Y\n",
    "\n",
    "c = confusion_matrix(Y, classes_x)\n",
    "print('Confusion matrix:\\n', c)\n",
    "print('Accuracy:{}%'.format((c[0, 0] + c[1, 1]) * 100 / (c[0, 1] + c[0, 0] + c[1, 1] + c[1, 0])))\n",
    "print('Sensitivity:{}%'.format(c[0, 0]*100 / (c[0, 1] + c[0, 0])))\n",
    "print('Specificity:{}%'.format(c[1, 1]*100 / (c[1, 1] + c[1, 0])))\n"
   ]
  },
  {
   "cell_type": "code",
   "execution_count": 81,
   "id": "894050bd",
   "metadata": {},
   "outputs": [
    {
     "name": "stderr",
     "output_type": "stream",
     "text": [
      "WARNING:absl:Found untraced functions such as _jit_compiled_convolution_op while saving (showing 1 of 1). These functions will not be directly callable after loading.\n"
     ]
    },
    {
     "name": "stdout",
     "output_type": "stream",
     "text": [
      "INFO:tensorflow:Assets written to: C:\\Users\\soods\\AppData\\Local\\Temp\\tmppf4rpslr\\assets\n"
     ]
    },
    {
     "name": "stderr",
     "output_type": "stream",
     "text": [
      "INFO:tensorflow:Assets written to: C:\\Users\\soods\\AppData\\Local\\Temp\\tmppf4rpslr\\assets\n"
     ]
    },
    {
     "data": {
      "text/plain": [
       "68.4052734375"
      ]
     },
     "execution_count": 81,
     "metadata": {},
     "output_type": "execute_result"
    }
   ],
   "source": [
    "from tinymlgen import port\n",
    "open('../model/model.h', \"w\").write((port(model, optimize=False)))/1024"
   ]
  },
  {
   "cell_type": "code",
   "execution_count": 29,
   "id": "2190e26e",
   "metadata": {},
   "outputs": [
    {
     "name": "stderr",
     "output_type": "stream",
     "text": [
      "WARNING:absl:Found untraced functions such as _jit_compiled_convolution_op while saving (showing 1 of 1). These functions will not be directly callable after loading.\n"
     ]
    },
    {
     "name": "stdout",
     "output_type": "stream",
     "text": [
      "INFO:tensorflow:Assets written to: ../model\\assets\n"
     ]
    },
    {
     "name": "stderr",
     "output_type": "stream",
     "text": [
      "INFO:tensorflow:Assets written to: ../model\\assets\n"
     ]
    }
   ],
   "source": [
    "model.save('../model')"
   ]
  }
 ],
 "metadata": {
  "kernelspec": {
   "display_name": "Python 3.10.6 64-bit (microsoft store)",
   "language": "python",
   "name": "python3"
  },
  "language_info": {
   "codemirror_mode": {
    "name": "ipython",
    "version": 3
   },
   "file_extension": ".py",
   "mimetype": "text/x-python",
   "name": "python",
   "nbconvert_exporter": "python",
   "pygments_lexer": "ipython3",
   "version": "3.10.6"
  },
  "vscode": {
   "interpreter": {
    "hash": "5609a82b186107e1566a25a9d90b091b01011b4496a5dba96eac49f7f2fc4c42"
   }
  }
 },
 "nbformat": 4,
 "nbformat_minor": 5
}
