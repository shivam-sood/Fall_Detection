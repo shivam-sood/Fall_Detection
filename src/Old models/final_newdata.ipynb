{
 "cells": [
  {
   "cell_type": "code",
   "execution_count": 1,
   "id": "1fea095d",
   "metadata": {},
   "outputs": [
    {
     "name": "stderr",
     "output_type": "stream",
     "text": [
      "2022-09-07 02:15:20.027546: W tensorflow/stream_executor/platform/default/dso_loader.cc:64] Could not load dynamic library 'libcudart.so.11.0'; dlerror: libcudart.so.11.0: cannot open shared object file: No such file or directory\n",
      "2022-09-07 02:15:20.027564: I tensorflow/stream_executor/cuda/cudart_stub.cc:29] Ignore above cudart dlerror if you do not have a GPU set up on your machine.\n"
     ]
    }
   ],
   "source": [
    "import os\n",
    "import os.path\n",
    "import tensorflow as tf\n",
    "from tensorflow import keras\n",
    "import pandas as pd\n",
    "import numpy as np"
   ]
  },
  {
   "cell_type": "code",
   "execution_count": 4,
   "id": "12307efe",
   "metadata": {},
   "outputs": [
    {
     "name": "stdout",
     "output_type": "stream",
     "text": [
      "TESTING_ML_v58.txt\n",
      "TESTING_ML_v55.txt\n",
      "TESTING_ML_v49.txt\n",
      "TESTING_ML_v9.txt\n",
      "TESTING_ML_v19.txt\n",
      "TESTING_ML_v29.txt\n",
      "TESTING_ML_v57.txt\n",
      "TESTING_ML_v25.txt\n",
      "TESTING_ML_v50.txt\n",
      "TESTING_ML_v23.txt\n",
      "TESTING_ML_v30.txt\n",
      "TESTING_ML_v56.txt\n",
      "TESTING_ML_v53.txt\n",
      "TESTING_ML_v28.txt\n",
      "TESTING_ML_v40.txt\n",
      "TESTING_ML_v16.txt\n",
      "TESTING_ML_v20.txt -78 822 4.7132685049761385\n",
      "TESTING_ML_v21.txt\n",
      "TESTING_ML_v59.txt\n",
      "TESTING_ML_v8.txt\n",
      "TESTING_ML_v52.txt\n",
      "TESTING_ML_v15.txt\n",
      "TESTING_ML_v22.txt\n",
      "TESTING_ML_v51.txt\n",
      "TESTING_ML_v54.txt\n",
      "TESTING_ML_v10.txt -102 798 12.53990430585497\n"
     ]
    }
   ],
   "source": [
    "x = []\n",
    "y = []\n",
    "\n",
    "for dirpath, dirnames, filenames in os.walk(\"../Fall Data (New)/\"):\n",
    "    for filename in [f for f in filenames if f.endswith(\".txt\")]:\n",
    "        df = pd.read_csv(os.path.join(dirpath, filename),header=None)\n",
    "        fall_time = df[df[1].isna()]\n",
    "        df = df[df[1].notna()]\n",
    "        ax = np.array(df[1])\n",
    "        ay = np.array(df[2])\n",
    "        az = np.array(df[3])\n",
    "        gx = np.array(df[4])\n",
    "        gy = np.array(df[5])\n",
    "        gz = np.array(df[6])\n",
    "        time = np.array(df[0])\n",
    "        a = np.sqrt(ax**2 + ay**2 + az**2)\n",
    "        if filename[0] == \"A\":\n",
    "            # ADL file\n",
    "            for i in range(a.shape[0]):\n",
    "                if a[i] >= 1.6:\n",
    "                    st = i - 450\n",
    "                    ed =  i + 450\n",
    "                    if st < 0 or ed >= a.shape[0]:\n",
    "                        continue\n",
    "\n",
    "                    tmp = np.array(list(zip(ax[st:ed],ay[st:ed],az[st:ed],gx[st:ed],gy[st:ed],gz[st:ed])))\n",
    "\n",
    "\n",
    "                    x.append(tmp)\n",
    "                    y.append(1)\n",
    "        elif filename[11] == \"B\":\n",
    "            continue\n",
    "\n",
    "        else:\n",
    "            # Fall Data\n",
    "            i = np.argmax(a)\n",
    "#             val = int(np.array(fall_time[0])[1])\n",
    "#             i = np.where(time == val)[0][0]\n",
    "            st = i - 450\n",
    "            ed =  i + 450\n",
    "            if st < 0 or ed >= a.shape[0] or a[i] < 1.6:\n",
    "#                 print(filename)\n",
    "                print(filename,st,ed,a[i])\n",
    "                continue\n",
    "            print(filename)\n",
    "            tmp = np.array(list(zip(ax[st:ed],ay[st:ed],az[st:ed],gx[st:ed],gy[st:ed],gz[st:ed])))\n",
    "            x.append(tmp)\n",
    "            y.append(0)\n"
   ]
  },
  {
   "cell_type": "code",
   "execution_count": 5,
   "id": "84ddfedd",
   "metadata": {},
   "outputs": [
    {
     "data": {
      "text/plain": [
       "Counter({0: 24, 1: 9446})"
      ]
     },
     "execution_count": 5,
     "metadata": {},
     "output_type": "execute_result"
    }
   ],
   "source": [
    "from collections import Counter\n",
    "cnt =  Counter(y)\n",
    "cnt"
   ]
  },
  {
   "cell_type": "code",
   "execution_count": 6,
   "id": "1be97f64",
   "metadata": {},
   "outputs": [
    {
     "name": "stdout",
     "output_type": "stream",
     "text": [
      "(9470, 900, 6, 1) (9470,)\n"
     ]
    }
   ],
   "source": [
    "X = np.array(x)\n",
    "Y = np.array(y)\n",
    "X = X.reshape(-1,900,6,1)\n",
    "# X_flat = X.reshape(-1,5400)\n",
    "print(X.shape,Y.shape)\n"
   ]
  },
  {
   "cell_type": "code",
   "execution_count": 7,
   "id": "6727df39",
   "metadata": {},
   "outputs": [
    {
     "name": "stdout",
     "output_type": "stream",
     "text": [
      "(1894, 900, 6, 1)\n"
     ]
    }
   ],
   "source": [
    "from sklearn.model_selection import train_test_split\n",
    "X_train, X_test, y_train, y_test = train_test_split(X, Y, test_size=0.2, random_state=50)\n",
    "X_flat_train = X_train.reshape(-1,5400)\n",
    "X_flat_test = X_test.reshape(-1,5400)\n",
    "y_train_cat = keras.utils.to_categorical(y_train)\n",
    "y_test_cat = keras.utils.to_categorical(y_test)\n",
    "print(X_test.shape)\n"
   ]
  },
  {
   "cell_type": "code",
   "execution_count": 8,
   "id": "11dba25d",
   "metadata": {},
   "outputs": [
    {
     "name": "stdout",
     "output_type": "stream",
     "text": [
      "Model: \"sequential\"\n",
      "_________________________________________________________________\n",
      " Layer (type)                Output Shape              Param #   \n",
      "=================================================================\n",
      " conv2d (Conv2D)             (None, 18, 1, 10)         3010      \n",
      "                                                                 \n",
      " flatten (Flatten)           (None, 180)               0         \n",
      "                                                                 \n",
      " dense (Dense)               (None, 2)                 362       \n",
      "                                                                 \n",
      "=================================================================\n",
      "Total params: 3,372\n",
      "Trainable params: 3,372\n",
      "Non-trainable params: 0\n",
      "_________________________________________________________________\n"
     ]
    },
    {
     "name": "stderr",
     "output_type": "stream",
     "text": [
      "2022-09-07 02:19:27.391017: I tensorflow/stream_executor/cuda/cuda_gpu_executor.cc:975] successful NUMA node read from SysFS had negative value (-1), but there must be at least one NUMA node, so returning NUMA node zero\n",
      "2022-09-07 02:19:27.391379: W tensorflow/stream_executor/platform/default/dso_loader.cc:64] Could not load dynamic library 'libcudart.so.11.0'; dlerror: libcudart.so.11.0: cannot open shared object file: No such file or directory\n",
      "2022-09-07 02:19:27.391431: W tensorflow/stream_executor/platform/default/dso_loader.cc:64] Could not load dynamic library 'libcublas.so.11'; dlerror: libcublas.so.11: cannot open shared object file: No such file or directory\n",
      "2022-09-07 02:19:27.391480: W tensorflow/stream_executor/platform/default/dso_loader.cc:64] Could not load dynamic library 'libcublasLt.so.11'; dlerror: libcublasLt.so.11: cannot open shared object file: No such file or directory\n",
      "2022-09-07 02:19:27.391528: W tensorflow/stream_executor/platform/default/dso_loader.cc:64] Could not load dynamic library 'libcufft.so.10'; dlerror: libcufft.so.10: cannot open shared object file: No such file or directory\n",
      "2022-09-07 02:19:27.391577: W tensorflow/stream_executor/platform/default/dso_loader.cc:64] Could not load dynamic library 'libcurand.so.10'; dlerror: libcurand.so.10: cannot open shared object file: No such file or directory\n",
      "2022-09-07 02:19:27.391627: W tensorflow/stream_executor/platform/default/dso_loader.cc:64] Could not load dynamic library 'libcusolver.so.11'; dlerror: libcusolver.so.11: cannot open shared object file: No such file or directory\n",
      "2022-09-07 02:19:27.391674: W tensorflow/stream_executor/platform/default/dso_loader.cc:64] Could not load dynamic library 'libcusparse.so.11'; dlerror: libcusparse.so.11: cannot open shared object file: No such file or directory\n",
      "2022-09-07 02:19:27.391722: W tensorflow/stream_executor/platform/default/dso_loader.cc:64] Could not load dynamic library 'libcudnn.so.8'; dlerror: libcudnn.so.8: cannot open shared object file: No such file or directory\n",
      "2022-09-07 02:19:27.391730: W tensorflow/core/common_runtime/gpu/gpu_device.cc:1850] Cannot dlopen some GPU libraries. Please make sure the missing libraries mentioned above are installed properly if you would like to use GPU. Follow the guide at https://www.tensorflow.org/install/gpu for how to download and setup the required libraries for your platform.\n",
      "Skipping registering GPU devices...\n",
      "2022-09-07 02:19:27.392099: I tensorflow/core/platform/cpu_feature_guard.cc:193] This TensorFlow binary is optimized with oneAPI Deep Neural Network Library (oneDNN) to use the following CPU instructions in performance-critical operations:  AVX2 FMA\n",
      "To enable them in other operations, rebuild TensorFlow with the appropriate compiler flags.\n"
     ]
    }
   ],
   "source": [
    "from tensorflow.keras.models import Sequential\n",
    "from tensorflow.keras.layers import Dense, Conv2D, Flatten\n",
    "model = Sequential()\n",
    "model.add(Conv2D(10, kernel_size=(50,6), activation='relu', input_shape=(900,6,1),strides=50))\n",
    "model.add(Flatten())\n",
    "model.add(Dense(2, activation='softmax'))\n",
    "adam = tf.keras.optimizers.Adam(learning_rate=0.001,)\n",
    "model.compile(optimizer=adam, loss='categorical_crossentropy', metrics=['accuracy'])\n",
    "model.summary()"
   ]
  },
  {
   "cell_type": "code",
   "execution_count": 9,
   "id": "783670b2",
   "metadata": {},
   "outputs": [
    {
     "name": "stdout",
     "output_type": "stream",
     "text": [
      "Epoch 1/20\n",
      "45/45 [==============================] - 1s 7ms/step - loss: 0.0929 - accuracy: 0.9681 - val_loss: 0.0372 - val_accuracy: 0.9963\n",
      "Epoch 2/20\n",
      "45/45 [==============================] - 0s 4ms/step - loss: 0.0169 - accuracy: 0.9982 - val_loss: 0.0321 - val_accuracy: 0.9963\n",
      "Epoch 3/20\n",
      "45/45 [==============================] - 0s 4ms/step - loss: 0.0100 - accuracy: 0.9982 - val_loss: 0.0277 - val_accuracy: 0.9963\n",
      "Epoch 4/20\n",
      "45/45 [==============================] - 0s 4ms/step - loss: 0.0056 - accuracy: 0.9988 - val_loss: 0.0246 - val_accuracy: 0.9963\n",
      "Epoch 5/20\n",
      "45/45 [==============================] - 0s 4ms/step - loss: 0.0036 - accuracy: 0.9995 - val_loss: 0.0225 - val_accuracy: 0.9963\n",
      "Epoch 6/20\n",
      "45/45 [==============================] - 0s 4ms/step - loss: 0.0022 - accuracy: 0.9996 - val_loss: 0.0200 - val_accuracy: 0.9963\n",
      "Epoch 7/20\n",
      "45/45 [==============================] - 0s 4ms/step - loss: 0.0015 - accuracy: 0.9998 - val_loss: 0.0185 - val_accuracy: 0.9968\n",
      "Epoch 8/20\n",
      "45/45 [==============================] - 0s 4ms/step - loss: 0.0011 - accuracy: 0.9998 - val_loss: 0.0180 - val_accuracy: 0.9968\n",
      "Epoch 9/20\n",
      "45/45 [==============================] - 0s 4ms/step - loss: 8.5882e-04 - accuracy: 0.9998 - val_loss: 0.0166 - val_accuracy: 0.9968\n",
      "Epoch 10/20\n",
      "45/45 [==============================] - 0s 4ms/step - loss: 6.8967e-04 - accuracy: 0.9998 - val_loss: 0.0159 - val_accuracy: 0.9974\n",
      "Epoch 11/20\n",
      "45/45 [==============================] - 0s 4ms/step - loss: 5.1456e-04 - accuracy: 0.9998 - val_loss: 0.0150 - val_accuracy: 0.9974\n",
      "Epoch 12/20\n",
      "45/45 [==============================] - 0s 4ms/step - loss: 4.0190e-04 - accuracy: 0.9998 - val_loss: 0.0148 - val_accuracy: 0.9974\n",
      "Epoch 13/20\n",
      "45/45 [==============================] - 0s 4ms/step - loss: 3.2483e-04 - accuracy: 1.0000 - val_loss: 0.0151 - val_accuracy: 0.9974\n",
      "Epoch 14/20\n",
      "45/45 [==============================] - 0s 4ms/step - loss: 2.5958e-04 - accuracy: 1.0000 - val_loss: 0.0143 - val_accuracy: 0.9974\n",
      "Epoch 15/20\n",
      "45/45 [==============================] - 0s 4ms/step - loss: 2.1938e-04 - accuracy: 1.0000 - val_loss: 0.0143 - val_accuracy: 0.9974\n",
      "Epoch 16/20\n",
      "45/45 [==============================] - 0s 4ms/step - loss: 1.8710e-04 - accuracy: 1.0000 - val_loss: 0.0145 - val_accuracy: 0.9974\n",
      "Epoch 17/20\n",
      "45/45 [==============================] - 0s 4ms/step - loss: 1.6055e-04 - accuracy: 1.0000 - val_loss: 0.0144 - val_accuracy: 0.9974\n",
      "Epoch 18/20\n",
      "45/45 [==============================] - 0s 4ms/step - loss: 1.4218e-04 - accuracy: 1.0000 - val_loss: 0.0142 - val_accuracy: 0.9974\n",
      "Epoch 19/20\n",
      "45/45 [==============================] - 0s 4ms/step - loss: 1.2470e-04 - accuracy: 1.0000 - val_loss: 0.0142 - val_accuracy: 0.9974\n",
      "Epoch 20/20\n",
      "45/45 [==============================] - 0s 4ms/step - loss: 1.1031e-04 - accuracy: 1.0000 - val_loss: 0.0142 - val_accuracy: 0.9974\n",
      "15/15 [==============================] - 0s 1ms/step - loss: 0.0115 - accuracy: 0.9984\n"
     ]
    }
   ],
   "source": [
    "model.fit(X_train, y_train_cat, validation_split=0.25, epochs=20,batch_size=128)\n",
    "results = model.evaluate(X_test, y_test_cat, batch_size=128)"
   ]
  },
  {
   "cell_type": "code",
   "execution_count": 10,
   "id": "ae37bc52",
   "metadata": {},
   "outputs": [
    {
     "name": "stdout",
     "output_type": "stream",
     "text": [
      "(1894,)\n"
     ]
    }
   ],
   "source": [
    "print(y_test.shape)"
   ]
  },
  {
   "cell_type": "code",
   "execution_count": 11,
   "id": "69588a05",
   "metadata": {},
   "outputs": [
    {
     "name": "stdout",
     "output_type": "stream",
     "text": [
      "15/15 [==============================] - 0s 1ms/step\n",
      "[[2.8436039e-08 9.9999994e-01]\n",
      " [1.5591735e-06 9.9999839e-01]\n",
      " [9.1682200e-09 9.9999994e-01]\n",
      " ...\n",
      " [2.5170602e-08 1.0000000e+00]\n",
      " [1.2425081e-05 9.9998760e-01]\n",
      " [3.1964351e-09 1.0000000e+00]]\n",
      "Confusion matrix:\n",
      " [[   2    3]\n",
      " [   0 1889]]\n",
      "sensitivity 0.4\n",
      "specificity 1.0\n"
     ]
    }
   ],
   "source": [
    "from sklearn.metrics import confusion_matrix\n",
    "\n",
    "\n",
    "predictions = model.predict(X_test, batch_size=128, verbose=1)\n",
    "classes_x=(np.argmax(predictions,axis=1))\n",
    "print(predictions)\n",
    "true_classes = y_test\n",
    "\n",
    "# y_test_flat = np.argmax(y_test, axis=-1)\n",
    "c = confusion_matrix(y_test, classes_x)\n",
    "print('Confusion matrix:\\n', c)\n",
    "print('sensitivity', c[0, 0] / (c[0, 1] + c[0, 0]))\n",
    "print('specificity', c[1, 1] / (c[1, 1] + c[1, 0]))"
   ]
  },
  {
   "cell_type": "code",
   "execution_count": 12,
   "id": "ff0cca7c",
   "metadata": {},
   "outputs": [
    {
     "name": "stdout",
     "output_type": "stream",
     "text": [
      "101 1 0\n",
      "687 1 0\n",
      "1217 1 0\n"
     ]
    }
   ],
   "source": [
    "ind = 0\n",
    "for pa,pb in zip(classes_x,y_test):\n",
    "    if pa != pb:\n",
    "        print(ind,pa,pb)\n",
    "    ind += 1"
   ]
  },
  {
   "cell_type": "code",
   "execution_count": 13,
   "id": "3a118899",
   "metadata": {},
   "outputs": [
    {
     "data": {
      "text/plain": [
       "[array([3.55]),\n",
       " array([3.86]),\n",
       " array([1.72]),\n",
       " array([4.73]),\n",
       " array([3.92]),\n",
       " array([-4.63])]"
      ]
     },
     "execution_count": 13,
     "metadata": {},
     "output_type": "execute_result"
    }
   ],
   "source": [
    "list(X_test[497][450])"
   ]
  },
  {
   "cell_type": "code",
   "execution_count": 14,
   "id": "687ef864",
   "metadata": {},
   "outputs": [
    {
     "name": "stdout",
     "output_type": "stream",
     "text": [
      "Model: \"sequential_1\"\n",
      "_________________________________________________________________\n",
      " Layer (type)                Output Shape              Param #   \n",
      "=================================================================\n",
      " dense_1 (Dense)             (None, 100)               540100    \n",
      "                                                                 \n",
      " dense_2 (Dense)             (None, 10)                1010      \n",
      "                                                                 \n",
      " dense_3 (Dense)             (None, 1)                 11        \n",
      "                                                                 \n",
      "=================================================================\n",
      "Total params: 541,121\n",
      "Trainable params: 541,121\n",
      "Non-trainable params: 0\n",
      "_________________________________________________________________\n"
     ]
    }
   ],
   "source": [
    "from tensorflow.keras.models import Sequential\n",
    "from tensorflow.keras.layers import Dense, Conv2D, Flatten\n",
    "model = Sequential()\n",
    "# model.add(Conv2D(10, kernel_size=(5,6), activation='relu', input_shape=(900,6,1),strides=3))\n",
    "model.add(Dense(100, activation='relu',input_dim=5400))\n",
    "model.add(Dense(10, activation='relu'))\n",
    "\n",
    "# model.add(Flatten())\n",
    "model.add(Dense(1, activation='sigmoid'))\n",
    "adam = tf.keras.optimizers.Adam(learning_rate=0.001,)\n",
    "model.compile(optimizer=adam, loss='BinaryCrossentropy', metrics=['accuracy'])\n",
    "model.summary()"
   ]
  },
  {
   "cell_type": "code",
   "execution_count": 15,
   "id": "fee25335",
   "metadata": {},
   "outputs": [
    {
     "name": "stdout",
     "output_type": "stream",
     "text": [
      "Epoch 1/20\n",
      "45/45 [==============================] - 1s 7ms/step - loss: 0.0955 - accuracy: 0.9696 - val_loss: 0.0513 - val_accuracy: 0.9968\n",
      "Epoch 2/20\n",
      "45/45 [==============================] - 0s 5ms/step - loss: 0.0019 - accuracy: 0.9996 - val_loss: 0.0536 - val_accuracy: 0.9963\n",
      "Epoch 3/20\n",
      "45/45 [==============================] - 0s 4ms/step - loss: 4.0766e-04 - accuracy: 0.9996 - val_loss: 0.0514 - val_accuracy: 0.9963\n",
      "Epoch 4/20\n",
      "45/45 [==============================] - 0s 5ms/step - loss: 3.0457e-04 - accuracy: 0.9996 - val_loss: 0.0513 - val_accuracy: 0.9963\n",
      "Epoch 5/20\n",
      "45/45 [==============================] - 0s 4ms/step - loss: 2.8428e-04 - accuracy: 0.9996 - val_loss: 0.0513 - val_accuracy: 0.9963\n",
      "Epoch 6/20\n",
      "45/45 [==============================] - 0s 5ms/step - loss: 2.7642e-04 - accuracy: 0.9996 - val_loss: 0.0512 - val_accuracy: 0.9963\n",
      "Epoch 7/20\n",
      "45/45 [==============================] - 0s 4ms/step - loss: 2.8249e-04 - accuracy: 0.9996 - val_loss: 0.0515 - val_accuracy: 0.9963\n",
      "Epoch 8/20\n",
      "45/45 [==============================] - 0s 4ms/step - loss: 2.6472e-04 - accuracy: 0.9996 - val_loss: 0.0516 - val_accuracy: 0.9963\n",
      "Epoch 9/20\n",
      "45/45 [==============================] - 0s 4ms/step - loss: 2.6136e-04 - accuracy: 0.9996 - val_loss: 0.0517 - val_accuracy: 0.9963\n",
      "Epoch 10/20\n",
      "45/45 [==============================] - 0s 4ms/step - loss: 2.5898e-04 - accuracy: 0.9996 - val_loss: 0.0518 - val_accuracy: 0.9963\n",
      "Epoch 11/20\n",
      "45/45 [==============================] - 0s 4ms/step - loss: 2.5709e-04 - accuracy: 0.9996 - val_loss: 0.0518 - val_accuracy: 0.9963\n",
      "Epoch 12/20\n",
      "45/45 [==============================] - 0s 4ms/step - loss: 2.5558e-04 - accuracy: 0.9996 - val_loss: 0.0519 - val_accuracy: 0.9963\n",
      "Epoch 13/20\n",
      "45/45 [==============================] - 0s 5ms/step - loss: 2.5438e-04 - accuracy: 0.9996 - val_loss: 0.0520 - val_accuracy: 0.9963\n",
      "Epoch 14/20\n",
      "45/45 [==============================] - 0s 5ms/step - loss: 2.5337e-04 - accuracy: 0.9996 - val_loss: 0.0520 - val_accuracy: 0.9963\n",
      "Epoch 15/20\n",
      "45/45 [==============================] - 0s 5ms/step - loss: 2.5242e-04 - accuracy: 0.9996 - val_loss: 0.0521 - val_accuracy: 0.9963\n",
      "Epoch 16/20\n",
      "45/45 [==============================] - 0s 4ms/step - loss: 2.5172e-04 - accuracy: 0.9996 - val_loss: 0.0521 - val_accuracy: 0.9963\n",
      "Epoch 17/20\n",
      "45/45 [==============================] - 0s 4ms/step - loss: 2.5106e-04 - accuracy: 0.9996 - val_loss: 0.0522 - val_accuracy: 0.9963\n",
      "Epoch 18/20\n",
      "45/45 [==============================] - 0s 4ms/step - loss: 2.5052e-04 - accuracy: 0.9996 - val_loss: 0.0522 - val_accuracy: 0.9963\n",
      "Epoch 19/20\n",
      "45/45 [==============================] - 0s 5ms/step - loss: 2.5000e-04 - accuracy: 0.9996 - val_loss: 0.0523 - val_accuracy: 0.9963\n",
      "Epoch 20/20\n",
      "45/45 [==============================] - 0s 5ms/step - loss: 2.4961e-04 - accuracy: 0.9996 - val_loss: 0.0523 - val_accuracy: 0.9963\n",
      "15/15 [==============================] - 0s 2ms/step - loss: 0.0502 - accuracy: 0.9979\n"
     ]
    }
   ],
   "source": [
    "model.fit(X_flat_train, y_train, validation_split=0.25, epochs=20,batch_size=128)\n",
    "results = model.evaluate(X_flat_test, y_test, batch_size=128)"
   ]
  },
  {
   "cell_type": "code",
   "execution_count": 16,
   "id": "1927d6a5",
   "metadata": {},
   "outputs": [
    {
     "name": "stdout",
     "output_type": "stream",
     "text": [
      "(9470, 900, 6, 1) (9470,) (9470, 5400)\n"
     ]
    }
   ],
   "source": [
    "orig_shape = X.shape\n",
    "\n",
    "wX = X.reshape(-1,5400)\n",
    "print(X.shape,Y.shape,wX.shape)"
   ]
  },
  {
   "cell_type": "code",
   "execution_count": 17,
   "id": "b74b765c",
   "metadata": {},
   "outputs": [],
   "source": [
    "from imblearn.over_sampling import SMOTE\n",
    "from imblearn.under_sampling import RandomUnderSampler\n",
    "from imblearn.pipeline import Pipeline\n",
    "over = SMOTE(sampling_strategy=0.1)\n",
    "under = RandomUnderSampler(sampling_strategy=0.5)\n",
    "steps = [('o', over), ('u', under)]\n",
    "pipeline = Pipeline(steps=steps)\n",
    "# transform the dataset\n",
    "new_X, new_Y = pipeline.fit_resample(wX, Y)"
   ]
  },
  {
   "cell_type": "code",
   "execution_count": 18,
   "id": "4158e734",
   "metadata": {},
   "outputs": [
    {
     "name": "stdout",
     "output_type": "stream",
     "text": [
      "(2832, 900, 6, 1) (2832,)\n"
     ]
    }
   ],
   "source": [
    "new_X = new_X.reshape((-1, 900, 6, 1))\n",
    "print(new_X.shape,new_Y.shape)"
   ]
  },
  {
   "cell_type": "code",
   "execution_count": 19,
   "id": "b6bd472c",
   "metadata": {},
   "outputs": [
    {
     "data": {
      "text/plain": [
       "Counter({0: 944, 1: 1888})"
      ]
     },
     "execution_count": 19,
     "metadata": {},
     "output_type": "execute_result"
    }
   ],
   "source": [
    "from collections import Counter\n",
    "cnt =  Counter(new_Y)\n",
    "cnt"
   ]
  },
  {
   "cell_type": "code",
   "execution_count": 20,
   "id": "682ec29b",
   "metadata": {},
   "outputs": [],
   "source": [
    "from sklearn.model_selection import train_test_split\n",
    "new_X_train, new_X_test, new_y_train, new_y_test = train_test_split(new_X, new_Y, test_size=0.2, random_state=32)\n",
    "new_y_train_cat = keras.utils.to_categorical(new_y_train)\n",
    "new_y_test_cat = keras.utils.to_categorical(new_y_test)"
   ]
  },
  {
   "cell_type": "code",
   "execution_count": 27,
   "id": "419a7dd4",
   "metadata": {},
   "outputs": [
    {
     "name": "stdout",
     "output_type": "stream",
     "text": [
      "Model: \"sequential_4\"\n",
      "_________________________________________________________________\n",
      " Layer (type)                Output Shape              Param #   \n",
      "=================================================================\n",
      " conv2d_3 (Conv2D)           (None, 161, 1, 7)         4207      \n",
      "                                                                 \n",
      " flatten_3 (Flatten)         (None, 1127)              0         \n",
      "                                                                 \n",
      " dense_6 (Dense)             (None, 2)                 2256      \n",
      "                                                                 \n",
      "=================================================================\n",
      "Total params: 6,463\n",
      "Trainable params: 6,463\n",
      "Non-trainable params: 0\n",
      "_________________________________________________________________\n"
     ]
    }
   ],
   "source": [
    "from tensorflow.keras.models import Sequential\n",
    "from tensorflow.keras.layers import Dense, Conv2D, Flatten\n",
    "model = Sequential()\n",
    "# 100%\n",
    "# model.add(Conv2D(20, kernel_size=(50,6), activation='relu', input_shape=(900,6,1),strides=5)) \n",
    "model.add(Conv2D(7, kernel_size=(100,6), activation='relu', input_shape=(900,6,1),strides=5))\n",
    "model.add(Flatten())\n",
    "model.add(Dense(2, activation='softmax'))\n",
    "adam = tf.keras.optimizers.Adam(learning_rate=0.001,)\n",
    "model.compile(optimizer=adam, loss='categorical_crossentropy', metrics=['accuracy'])\n",
    "model.summary()"
   ]
  },
  {
   "cell_type": "code",
   "execution_count": 28,
   "id": "275bce21",
   "metadata": {},
   "outputs": [
    {
     "name": "stdout",
     "output_type": "stream",
     "text": [
      "Epoch 1/20\n",
      "14/14 [==============================] - 1s 30ms/step - loss: 0.3047 - accuracy: 0.8610 - val_loss: 0.0657 - val_accuracy: 0.9859\n",
      "Epoch 2/20\n",
      "14/14 [==============================] - 0s 24ms/step - loss: 0.0247 - accuracy: 0.9959 - val_loss: 0.0080 - val_accuracy: 1.0000\n",
      "Epoch 3/20\n",
      "14/14 [==============================] - 0s 25ms/step - loss: 0.0069 - accuracy: 1.0000 - val_loss: 0.0032 - val_accuracy: 1.0000\n",
      "Epoch 4/20\n",
      "14/14 [==============================] - 0s 25ms/step - loss: 0.0031 - accuracy: 1.0000 - val_loss: 0.0021 - val_accuracy: 1.0000\n",
      "Epoch 5/20\n",
      "14/14 [==============================] - 0s 25ms/step - loss: 0.0020 - accuracy: 1.0000 - val_loss: 0.0016 - val_accuracy: 1.0000\n",
      "Epoch 6/20\n",
      "14/14 [==============================] - 0s 25ms/step - loss: 0.0016 - accuracy: 1.0000 - val_loss: 0.0013 - val_accuracy: 1.0000\n",
      "Epoch 7/20\n",
      "14/14 [==============================] - 0s 25ms/step - loss: 0.0013 - accuracy: 1.0000 - val_loss: 0.0011 - val_accuracy: 1.0000\n",
      "Epoch 8/20\n",
      "14/14 [==============================] - 0s 24ms/step - loss: 0.0011 - accuracy: 1.0000 - val_loss: 9.5965e-04 - val_accuracy: 1.0000\n",
      "Epoch 9/20\n",
      "14/14 [==============================] - 0s 25ms/step - loss: 9.4236e-04 - accuracy: 1.0000 - val_loss: 8.4374e-04 - val_accuracy: 1.0000\n",
      "Epoch 10/20\n",
      "14/14 [==============================] - 0s 25ms/step - loss: 8.2707e-04 - accuracy: 1.0000 - val_loss: 7.5099e-04 - val_accuracy: 1.0000\n",
      "Epoch 11/20\n",
      "14/14 [==============================] - 0s 25ms/step - loss: 7.3050e-04 - accuracy: 1.0000 - val_loss: 6.7244e-04 - val_accuracy: 1.0000\n",
      "Epoch 12/20\n",
      "14/14 [==============================] - 0s 25ms/step - loss: 6.5230e-04 - accuracy: 1.0000 - val_loss: 6.0756e-04 - val_accuracy: 1.0000\n",
      "Epoch 13/20\n",
      "14/14 [==============================] - 0s 26ms/step - loss: 5.8190e-04 - accuracy: 1.0000 - val_loss: 5.5536e-04 - val_accuracy: 1.0000\n",
      "Epoch 14/20\n",
      "14/14 [==============================] - 0s 25ms/step - loss: 5.2672e-04 - accuracy: 1.0000 - val_loss: 5.0745e-04 - val_accuracy: 1.0000\n",
      "Epoch 15/20\n",
      "14/14 [==============================] - 0s 25ms/step - loss: 4.7385e-04 - accuracy: 1.0000 - val_loss: 4.6725e-04 - val_accuracy: 1.0000\n",
      "Epoch 16/20\n",
      "14/14 [==============================] - 0s 25ms/step - loss: 4.4239e-04 - accuracy: 1.0000 - val_loss: 4.3165e-04 - val_accuracy: 1.0000\n",
      "Epoch 17/20\n",
      "14/14 [==============================] - 0s 25ms/step - loss: 3.9321e-04 - accuracy: 1.0000 - val_loss: 3.9907e-04 - val_accuracy: 1.0000\n",
      "Epoch 18/20\n",
      "14/14 [==============================] - 0s 25ms/step - loss: 3.5819e-04 - accuracy: 1.0000 - val_loss: 3.6775e-04 - val_accuracy: 1.0000\n",
      "Epoch 19/20\n",
      "14/14 [==============================] - 0s 26ms/step - loss: 3.2794e-04 - accuracy: 1.0000 - val_loss: 3.4099e-04 - val_accuracy: 1.0000\n",
      "Epoch 20/20\n",
      "14/14 [==============================] - 0s 25ms/step - loss: 3.0074e-04 - accuracy: 1.0000 - val_loss: 3.1865e-04 - val_accuracy: 1.0000\n",
      "5/5 [==============================] - 0s 7ms/step - loss: 4.1310e-04 - accuracy: 1.0000\n"
     ]
    }
   ],
   "source": [
    "model.fit(new_X_train, new_y_train_cat, validation_split=0.25, epochs=20,batch_size=128)\n",
    "results = model.evaluate(new_X_test, new_y_test_cat, batch_size=128)"
   ]
  },
  {
   "cell_type": "code",
   "execution_count": 29,
   "id": "999a2ecc",
   "metadata": {},
   "outputs": [
    {
     "name": "stdout",
     "output_type": "stream",
     "text": [
      "Confusion matrix:\n",
      " [[  24    0]\n",
      " [   0 9446]]\n",
      "Accuracy:100.0%\n",
      "Sensitivity:100.0%\n",
      "Specificity:100.0%\n"
     ]
    }
   ],
   "source": [
    "from sklearn.metrics import confusion_matrix\n",
    "X_train, X_test, y_train, y_test = train_test_split(X, Y, test_size=0.2, random_state=3372)\n",
    "#print(X_test.shape)\n",
    "predictions = model.predict(X, batch_size=128, verbose=0)\n",
    "classes_x=(np.argmax(predictions,axis=1))\n",
    "#print(predictions)\n",
    "true_classes = Y\n",
    "\n",
    "# y_test_flat = np.argmax(y_test, axis=-1)\n",
    "c = confusion_matrix(Y, classes_x)\n",
    "print('Confusion matrix:\\n', c)\n",
    "# print('Accuracy', )\n",
    "print('Accuracy:{}%'.format((c[0, 0] + c[1, 1]) * 100 / (c[0, 1] + c[0, 0] + c[1, 1] + c[1, 0])))\n",
    "print('Sensitivity:{}%'.format(c[0, 0]*100 / (c[0, 1] + c[0, 0])))\n",
    "print('Specificity:{}%'.format(c[1, 1]*100 / (c[1, 1] + c[1, 0])))\n",
    "# print('sensitivity', c[0, 0] / (c[0, 1] + c[0, 0]))\n",
    "# print('specificity', c[1, 1] / (c[1, 1] + c[1, 0]))"
   ]
  },
  {
   "cell_type": "code",
   "execution_count": null,
   "id": "4e8de1c9",
   "metadata": {},
   "outputs": [],
   "source": []
  },
  {
   "cell_type": "code",
   "execution_count": null,
   "id": "894050bd",
   "metadata": {},
   "outputs": [],
   "source": []
  }
 ],
 "metadata": {
  "kernelspec": {
   "display_name": "Python 3.10.6 64-bit (microsoft store)",
   "language": "python",
   "name": "python3"
  },
  "language_info": {
   "codemirror_mode": {
    "name": "ipython",
    "version": 3
   },
   "file_extension": ".py",
   "mimetype": "text/x-python",
   "name": "python",
   "nbconvert_exporter": "python",
   "pygments_lexer": "ipython3",
   "version": "3.10.6"
  },
  "vscode": {
   "interpreter": {
    "hash": "5609a82b186107e1566a25a9d90b091b01011b4496a5dba96eac49f7f2fc4c42"
   }
  }
 },
 "nbformat": 4,
 "nbformat_minor": 5
}
