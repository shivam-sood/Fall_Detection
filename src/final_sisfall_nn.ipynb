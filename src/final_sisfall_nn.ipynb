{
 "cells": [
  {
   "cell_type": "code",
   "execution_count": 1,
   "metadata": {},
   "outputs": [],
   "source": [
    "import os\n",
    "import os.path\n",
    "import tensorflow as tf\n",
    "from tensorflow import keras\n",
    "import pandas as pd\n",
    "import numpy as np"
   ]
  },
  {
   "cell_type": "code",
   "execution_count": 2,
   "metadata": {},
   "outputs": [
    {
     "data": {
      "text/plain": [
       "[]"
      ]
     },
     "execution_count": 2,
     "metadata": {},
     "output_type": "execute_result"
    }
   ],
   "source": [
    "tf.config.list_physical_devices('GPU')\n",
    "\n",
    "# Disable GPU\n",
    "# os.environ[\"CUDA_VISIBLE_DEVICES\"] = \"\"\n",
    "\n"
   ]
  },
  {
   "cell_type": "code",
   "execution_count": 3,
   "metadata": {},
   "outputs": [],
   "source": [
    "from cmath import inf\n",
    "\n",
    "\n",
    "x = []\n",
    "y = []\n",
    "cnt = 0\n",
    "ind = []\n",
    "\n",
    "for dirpath, dirnames, filenames in os.walk(\"../SisFall_dataset\"):\n",
    "    for filename in [f for f in filenames if f.endswith(\".txt\")]:\n",
    "        if(filename != \"Readme.txt\"):\n",
    "            \n",
    "            if filename[0] == \"D\":\n",
    "                # ADL file\n",
    "                df = pd.read_csv(os.path.join(dirpath, filename),header=None)\n",
    "                ax = np.array(df[0])*32/8192\n",
    "                ay = np.array(df[1])*32/8192\n",
    "                az = np.array(df[2])*32/8192\n",
    "                aax = ax[np.arange(0,ax.shape[0],8)]\n",
    "                aay = ay[np.arange(0,ax.shape[0],8)]\n",
    "                aaz = az[np.arange(0,ax.shape[0],8)]\n",
    "                s = np.sqrt(aax**2 + aay**2 + aaz**2)\n",
    "                for i in range(s.shape[0]):\n",
    "                    if s[i] >= 1.6:\n",
    "                        st = i - 38\n",
    "                        ed =  i + 39\n",
    "                        if st < 0 or ed >= s.shape[0]:\n",
    "                            continue\n",
    "                        \n",
    "                        tmp = np.array(list(zip(aax[st:ed],aay[st:ed],aaz[st:ed])))\n",
    "\n",
    "                        \n",
    "                        x.append(tmp)\n",
    "                        y.append(1)\n",
    "\n",
    "\n",
    "            else:\n",
    "                # Fall Data\n",
    "                df = pd.read_csv(os.path.join(dirpath, filename),header=None)\n",
    "                ax = np.array(df[0])*32/8192\n",
    "                ay = np.array(df[1])*32/8192\n",
    "                az = np.array(df[2])*32/8192\n",
    "                m = 0\n",
    "                aax = ax[np.arange(m,ax.shape[0],8)]\n",
    "                aay = ay[np.arange(m,ax.shape[0],8)]\n",
    "                aaz = az[np.arange(m,ax.shape[0],8)]\n",
    "                s = np.sqrt(aax**2 + aay**2 + aaz**2)\n",
    "\n",
    "                i = np.argmax(s)\n",
    "                cnt += 1\n",
    "                st = i - 38\n",
    "                ed =  i + 39\n",
    "\n",
    "                if st < 0 or ed >= s.shape[0] or s[i] < 1.6:\n",
    "                    continue\n",
    "\n",
    "                tmp = np.array(list(zip(aax[st:ed],aay[st:ed],aaz[st:ed])))\n",
    "                x.append(tmp)\n",
    "                y.append(0)\n"
   ]
  },
  {
   "cell_type": "code",
   "execution_count": 4,
   "metadata": {},
   "outputs": [
    {
     "name": "stdout",
     "output_type": "stream",
     "text": [
      "1798\n"
     ]
    }
   ],
   "source": [
    "print(cnt)"
   ]
  },
  {
   "cell_type": "code",
   "execution_count": 5,
   "metadata": {},
   "outputs": [
    {
     "name": "stdout",
     "output_type": "stream",
     "text": [
      "(78723, 77, 3) (78723,)\n"
     ]
    }
   ],
   "source": [
    "X = np.array(x)\n",
    "Y = np.array(y)\n",
    "# x = X\n",
    "# y = Y\n",
    "print(X.shape,Y.shape)"
   ]
  },
  {
   "cell_type": "code",
   "execution_count": 6,
   "metadata": {},
   "outputs": [
    {
     "name": "stdout",
     "output_type": "stream",
     "text": [
      "(78723, 77, 3, 1) (78723,)\n"
     ]
    },
    {
     "data": {
      "text/plain": [
       "Counter({1: 76925, 0: 1798})"
      ]
     },
     "execution_count": 6,
     "metadata": {},
     "output_type": "execute_result"
    }
   ],
   "source": [
    "\n",
    "X = X.reshape((-1, 77, 3, 1))\n",
    "print(X.shape,Y.shape)\n",
    "from collections import Counter\n",
    "cnt =  Counter(Y)\n",
    "cnt"
   ]
  },
  {
   "cell_type": "code",
   "execution_count": 7,
   "metadata": {},
   "outputs": [
    {
     "name": "stdout",
     "output_type": "stream",
     "text": [
      "(78723, 77, 3, 1) (78723,) (62978, 231)\n",
      "(123040, 77, 3, 1) (123040, 2)\n"
     ]
    }
   ],
   "source": [
    "from sklearn.model_selection import train_test_split\n",
    "X_tr, X_test, y_tr, y_test = train_test_split(X, Y, test_size=0.2, random_state=32)\n",
    "\n",
    "from imblearn.over_sampling import SMOTE\n",
    "from imblearn.under_sampling import RandomUnderSampler\n",
    "from imblearn.pipeline import Pipeline\n",
    "orig_shape = X_tr.shape\n",
    "\n",
    "wX = X_tr.reshape(-1,231)\n",
    "print(X.shape,Y.shape,wX.shape)\n",
    "\n",
    "over = SMOTE(sampling_strategy=1)\n",
    "steps = [('o', over)]\n",
    "pipeline = Pipeline(steps=steps)\n",
    "# transform the dataset\n",
    "X_train, y_train = pipeline.fit_resample(wX, y_tr)\n",
    "\n",
    "X_train = X_train.reshape((-1, 77, 3, 1))\n",
    "y_test = keras.utils.to_categorical(y_test)\n",
    "y_train = keras.utils.to_categorical(y_train)\n",
    "print(X_train.shape,y_train.shape)\n"
   ]
  },
  {
   "cell_type": "code",
   "execution_count": 8,
   "metadata": {},
   "outputs": [
    {
     "name": "stdout",
     "output_type": "stream",
     "text": [
      "Model: \"sequential\"\n",
      "_________________________________________________________________\n",
      " Layer (type)                Output Shape              Param #   \n",
      "=================================================================\n",
      " conv2d (Conv2D)             (None, 25, 1, 10)         160       \n",
      "                                                                 \n",
      " flatten (Flatten)           (None, 250)               0         \n",
      "                                                                 \n",
      " dense (Dense)               (None, 2)                 502       \n",
      "                                                                 \n",
      "=================================================================\n",
      "Total params: 662\n",
      "Trainable params: 662\n",
      "Non-trainable params: 0\n",
      "_________________________________________________________________\n"
     ]
    }
   ],
   "source": [
    "from tensorflow.keras.models import Sequential\n",
    "from tensorflow.keras.layers import Dense, Conv2D, Flatten,Dropout\n",
    "model = Sequential()\n",
    "model.add(Conv2D(10, kernel_size=(5,3), activation='relu', input_shape=(77,3,1),strides=3))\n",
    "\n",
    "model.add(Flatten())\n",
    "model.add(Dense(2, activation='softmax'))\n",
    "adam = tf.keras.optimizers.Adam(learning_rate=0.001,)\n",
    "model.compile(optimizer=adam, loss='categorical_crossentropy', metrics=['accuracy'])\n",
    "model.summary()"
   ]
  },
  {
   "cell_type": "code",
   "execution_count": 9,
   "metadata": {},
   "outputs": [
    {
     "name": "stdout",
     "output_type": "stream",
     "text": [
      "Epoch 1/20\n",
      "962/962 [==============================] - 3s 3ms/step - loss: 0.0560 - accuracy: 0.9844 - val_loss: 0.0104 - val_accuracy: 0.9982\n",
      "Epoch 2/20\n",
      "962/962 [==============================] - 3s 3ms/step - loss: 0.0114 - accuracy: 0.9971 - val_loss: 0.0078 - val_accuracy: 0.9985\n",
      "Epoch 3/20\n",
      "962/962 [==============================] - 3s 3ms/step - loss: 0.0064 - accuracy: 0.9981 - val_loss: 0.0073 - val_accuracy: 0.9985\n",
      "Epoch 4/20\n",
      "962/962 [==============================] - 3s 3ms/step - loss: 0.0038 - accuracy: 0.9989 - val_loss: 0.0052 - val_accuracy: 0.9987\n",
      "Epoch 5/20\n",
      "962/962 [==============================] - 2s 3ms/step - loss: 0.0026 - accuracy: 0.9993 - val_loss: 0.0050 - val_accuracy: 0.9987\n",
      "Epoch 6/20\n",
      "962/962 [==============================] - 2s 3ms/step - loss: 0.0019 - accuracy: 0.9996 - val_loss: 0.0043 - val_accuracy: 0.9993\n",
      "Epoch 7/20\n",
      "962/962 [==============================] - 3s 4ms/step - loss: 0.0015 - accuracy: 0.9996 - val_loss: 0.0045 - val_accuracy: 0.9992\n",
      "Epoch 8/20\n",
      "962/962 [==============================] - 3s 3ms/step - loss: 0.0012 - accuracy: 0.9997 - val_loss: 0.0042 - val_accuracy: 0.9992\n",
      "Epoch 9/20\n",
      "962/962 [==============================] - 3s 3ms/step - loss: 9.5235e-04 - accuracy: 0.9998 - val_loss: 0.0041 - val_accuracy: 0.9995\n",
      "Epoch 10/20\n",
      "962/962 [==============================] - 3s 3ms/step - loss: 8.4379e-04 - accuracy: 0.9998 - val_loss: 0.0046 - val_accuracy: 0.9994\n",
      "Epoch 11/20\n",
      "962/962 [==============================] - 3s 3ms/step - loss: 6.8570e-04 - accuracy: 0.9999 - val_loss: 0.0049 - val_accuracy: 0.9992\n",
      "Epoch 12/20\n",
      "962/962 [==============================] - 3s 3ms/step - loss: 5.7586e-04 - accuracy: 0.9999 - val_loss: 0.0047 - val_accuracy: 0.9995\n",
      "Epoch 13/20\n",
      "962/962 [==============================] - 3s 3ms/step - loss: 4.8690e-04 - accuracy: 0.9999 - val_loss: 0.0047 - val_accuracy: 0.9996\n",
      "Epoch 14/20\n",
      "962/962 [==============================] - 3s 3ms/step - loss: 3.8918e-04 - accuracy: 0.9999 - val_loss: 0.0049 - val_accuracy: 0.9996\n",
      "Epoch 15/20\n",
      "962/962 [==============================] - 3s 3ms/step - loss: 3.2451e-04 - accuracy: 0.9999 - val_loss: 0.0053 - val_accuracy: 0.9996\n",
      "Epoch 16/20\n",
      "962/962 [==============================] - 3s 3ms/step - loss: 3.1781e-04 - accuracy: 1.0000 - val_loss: 0.0052 - val_accuracy: 0.9996\n",
      "Epoch 17/20\n",
      "962/962 [==============================] - 3s 3ms/step - loss: 2.5490e-04 - accuracy: 1.0000 - val_loss: 0.0054 - val_accuracy: 0.9995\n",
      "Epoch 18/20\n",
      "962/962 [==============================] - 3s 3ms/step - loss: 2.1250e-04 - accuracy: 1.0000 - val_loss: 0.0056 - val_accuracy: 0.9996\n",
      "Epoch 19/20\n",
      "962/962 [==============================] - 4s 4ms/step - loss: 1.9232e-04 - accuracy: 1.0000 - val_loss: 0.0059 - val_accuracy: 0.9997\n",
      "Epoch 20/20\n",
      "962/962 [==============================] - 3s 3ms/step - loss: 1.3826e-04 - accuracy: 1.0000 - val_loss: 0.0060 - val_accuracy: 0.9997\n"
     ]
    },
    {
     "data": {
      "text/plain": [
       "<keras.callbacks.History at 0x1ab9d239e40>"
      ]
     },
     "execution_count": 9,
     "metadata": {},
     "output_type": "execute_result"
    }
   ],
   "source": [
    "model.fit(X_train, y_train, validation_data=(X_test, y_test), epochs=20,batch_size=128)"
   ]
  },
  {
   "cell_type": "code",
   "execution_count": 10,
   "metadata": {},
   "outputs": [
    {
     "name": "stdout",
     "output_type": "stream",
     "text": [
      "(15745, 77, 3, 1) (15745, 2)\n",
      "124/124 [==============================] - 0s 2ms/step - loss: 0.0060 - accuracy: 0.9997\n"
     ]
    }
   ],
   "source": [
    "print(X_test.shape,y_test.shape)\n",
    "results = model.evaluate(X_test, y_test, batch_size=128)"
   ]
  },
  {
   "cell_type": "code",
   "execution_count": 11,
   "metadata": {},
   "outputs": [
    {
     "name": "stdout",
     "output_type": "stream",
     "text": [
      "616/616 [==============================] - 1s 1ms/step\n",
      "Confusion matrix:\n",
      " [[ 1794     4]\n",
      " [    3 76922]]\n",
      "Accuracy 0.9999110806244681\n",
      "sensitivity 0.9977753058954394\n",
      "specificity 0.9999610009749756\n"
     ]
    }
   ],
   "source": [
    "from sklearn.metrics import confusion_matrix\n",
    "\n",
    "\n",
    "predictions = model.predict(X, batch_size=128, verbose=1)\n",
    "classes_x=(np.argmax(predictions,axis=1))\n",
    "true_classes = y\n",
    "\n",
    "# y_test_flat = np.argmax(y_test, axis=-1)\n",
    "c = confusion_matrix(y, classes_x)\n",
    "print('Confusion matrix:\\n', c)\n",
    "print('Accuracy', (c[0, 0]+c[1, 1]) / (c[0, 1] + c[0, 0] + c[1, 1] + c[1, 0]))\n",
    "print('sensitivity', c[0, 0] / (c[0, 1] + c[0, 0]))\n",
    "print('specificity', c[1, 1] / (c[1, 1] + c[1, 0]))"
   ]
  },
  {
   "cell_type": "code",
   "execution_count": 12,
   "metadata": {},
   "outputs": [
    {
     "name": "stdout",
     "output_type": "stream",
     "text": [
      "(123040, 231)\n",
      "Model: \"sequential_1\"\n",
      "_________________________________________________________________\n",
      " Layer (type)                Output Shape              Param #   \n",
      "=================================================================\n",
      " dense_1 (Dense)             (None, 64)                14848     \n",
      "                                                                 \n",
      " dense_2 (Dense)             (None, 2)                 130       \n",
      "                                                                 \n",
      "=================================================================\n",
      "Total params: 14,978\n",
      "Trainable params: 14,978\n",
      "Non-trainable params: 0\n",
      "_________________________________________________________________\n"
     ]
    }
   ],
   "source": [
    "\n",
    "x_flattened = X_train.reshape(-1,231)\n",
    "print(x_flattened.shape)\n",
    "model2 = Sequential()\n",
    "model2.add(Dense(64, activation='relu', input_dim=231))\n",
    "model2.add(Dense(2, activation='softmax'))\n",
    "adam = tf.keras.optimizers.Adam(learning_rate=0.001,)\n",
    "model2.compile(optimizer=adam, loss='categorical_crossentropy', metrics=['accuracy'])\n",
    "model2.summary()"
   ]
  },
  {
   "cell_type": "code",
   "execution_count": 13,
   "metadata": {},
   "outputs": [
    {
     "name": "stdout",
     "output_type": "stream",
     "text": [
      "Epoch 1/20\n",
      "721/721 [==============================] - 2s 2ms/step - loss: 0.0179 - accuracy: 0.9943 - val_loss: 0.0068 - val_accuracy: 0.9983\n",
      "Epoch 2/20\n",
      "721/721 [==============================] - 1s 2ms/step - loss: 0.0026 - accuracy: 0.9993 - val_loss: 0.0020 - val_accuracy: 0.9996\n",
      "Epoch 3/20\n",
      "721/721 [==============================] - 2s 2ms/step - loss: 0.0011 - accuracy: 0.9998 - val_loss: 0.0014 - val_accuracy: 1.0000\n",
      "Epoch 4/20\n",
      "721/721 [==============================] - 2s 2ms/step - loss: 4.4081e-04 - accuracy: 0.9999 - val_loss: 6.8960e-04 - val_accuracy: 0.9999\n",
      "Epoch 5/20\n",
      "721/721 [==============================] - 1s 2ms/step - loss: 2.9798e-04 - accuracy: 1.0000 - val_loss: 1.8819e-04 - val_accuracy: 1.0000\n",
      "Epoch 6/20\n",
      "721/721 [==============================] - 1s 2ms/step - loss: 1.5403e-04 - accuracy: 1.0000 - val_loss: 0.0051 - val_accuracy: 0.9979\n",
      "Epoch 7/20\n",
      "721/721 [==============================] - 2s 2ms/step - loss: 2.4798e-04 - accuracy: 1.0000 - val_loss: 3.9707e-04 - val_accuracy: 0.9999\n",
      "Epoch 8/20\n",
      "721/721 [==============================] - 2s 3ms/step - loss: 8.0361e-05 - accuracy: 1.0000 - val_loss: 1.2371e-04 - val_accuracy: 1.0000\n",
      "Epoch 9/20\n",
      "721/721 [==============================] - 2s 2ms/step - loss: 2.9086e-05 - accuracy: 1.0000 - val_loss: 6.7930e-05 - val_accuracy: 1.0000\n",
      "Epoch 10/20\n",
      "721/721 [==============================] - 2s 2ms/step - loss: 1.7075e-05 - accuracy: 1.0000 - val_loss: 1.1370e-04 - val_accuracy: 1.0000\n",
      "Epoch 11/20\n",
      "721/721 [==============================] - 1s 2ms/step - loss: 1.5076e-05 - accuracy: 1.0000 - val_loss: 2.2035e-05 - val_accuracy: 1.0000\n",
      "Epoch 12/20\n",
      "721/721 [==============================] - 1s 2ms/step - loss: 4.4916e-04 - accuracy: 0.9999 - val_loss: 1.1463e-04 - val_accuracy: 1.0000\n",
      "Epoch 13/20\n",
      "721/721 [==============================] - 2s 2ms/step - loss: 1.5216e-05 - accuracy: 1.0000 - val_loss: 5.7244e-05 - val_accuracy: 1.0000\n",
      "Epoch 14/20\n",
      "721/721 [==============================] - 2s 2ms/step - loss: 8.8803e-06 - accuracy: 1.0000 - val_loss: 3.9147e-05 - val_accuracy: 1.0000\n",
      "Epoch 15/20\n",
      "721/721 [==============================] - 1s 2ms/step - loss: 6.1300e-06 - accuracy: 1.0000 - val_loss: 2.1364e-05 - val_accuracy: 1.0000\n",
      "Epoch 16/20\n",
      "721/721 [==============================] - 2s 2ms/step - loss: 4.6307e-06 - accuracy: 1.0000 - val_loss: 1.2304e-05 - val_accuracy: 1.0000\n",
      "Epoch 17/20\n",
      "721/721 [==============================] - 2s 2ms/step - loss: 3.2953e-06 - accuracy: 1.0000 - val_loss: 1.6048e-05 - val_accuracy: 1.0000\n",
      "Epoch 18/20\n",
      "721/721 [==============================] - 2s 2ms/step - loss: 2.4446e-06 - accuracy: 1.0000 - val_loss: 2.5587e-05 - val_accuracy: 1.0000\n",
      "Epoch 19/20\n",
      "721/721 [==============================] - 1s 2ms/step - loss: 2.0238e-06 - accuracy: 1.0000 - val_loss: 1.0695e-05 - val_accuracy: 1.0000\n",
      "Epoch 20/20\n",
      "721/721 [==============================] - 1s 2ms/step - loss: 1.7447e-06 - accuracy: 1.0000 - val_loss: 5.9293e-06 - val_accuracy: 1.0000\n"
     ]
    },
    {
     "data": {
      "text/plain": [
       "<keras.callbacks.History at 0x1abb0afe020>"
      ]
     },
     "execution_count": 13,
     "metadata": {},
     "output_type": "execute_result"
    }
   ],
   "source": [
    "\n",
    "model2.fit(x_flattened, y_train, validation_split=0.25, epochs=20,batch_size=128)"
   ]
  },
  {
   "cell_type": "code",
   "execution_count": 14,
   "metadata": {},
   "outputs": [
    {
     "name": "stdout",
     "output_type": "stream",
     "text": [
      "(15745, 77, 3, 1) (15745, 2)\n",
      "124/124 [==============================] - 0s 1ms/step - loss: 0.0080 - accuracy: 0.9993\n"
     ]
    }
   ],
   "source": [
    "print(X_test.shape,y_test.shape)\n",
    "xt_flattened = X_test.reshape(-1,231)\n",
    "results = model2.evaluate(xt_flattened, y_test, batch_size=128)\n"
   ]
  },
  {
   "cell_type": "code",
   "execution_count": 15,
   "metadata": {},
   "outputs": [
    {
     "name": "stdout",
     "output_type": "stream",
     "text": [
      "124/124 [==============================] - 0s 854us/step\n",
      "(15745,) (15745,)\n",
      "Confusion matrix:\n",
      " [[  333     7]\n",
      " [    4 15401]]\n",
      "sensitivity 0.9794117647058823\n",
      "specificity 0.9997403440441415\n"
     ]
    }
   ],
   "source": [
    "from sklearn.metrics import confusion_matrix\n",
    "\n",
    "\n",
    "predictions = model2.predict(xt_flattened, batch_size=128, verbose=1)\n",
    "classes_x=(np.argmax(predictions,axis=1))\n",
    "true_classes = y_test\n",
    "\n",
    "y_tt = np.argmax(y_test, axis=-1)\n",
    "print(y_tt.shape,classes_x.shape)\n",
    "c = confusion_matrix(y_tt, classes_x)\n",
    "print('Confusion matrix:\\n', c)\n",
    "print('sensitivity', c[0, 0] / (c[0, 1] + c[0, 0]))\n",
    "print('specificity', c[1, 1] / (c[1, 1] + c[1, 0]))"
   ]
  },
  {
   "cell_type": "code",
   "execution_count": null,
   "metadata": {},
   "outputs": [],
   "source": []
  }
 ],
 "metadata": {
  "kernelspec": {
   "display_name": "Python 3 (ipykernel)",
   "language": "python",
   "name": "python3"
  },
  "language_info": {
   "codemirror_mode": {
    "name": "ipython",
    "version": 3
   },
   "file_extension": ".py",
   "mimetype": "text/x-python",
   "name": "python",
   "nbconvert_exporter": "python",
   "pygments_lexer": "ipython3",
   "version": "3.10.6"
  },
  "vscode": {
   "interpreter": {
    "hash": "5609a82b186107e1566a25a9d90b091b01011b4496a5dba96eac49f7f2fc4c42"
   }
  }
 },
 "nbformat": 4,
 "nbformat_minor": 2
}
